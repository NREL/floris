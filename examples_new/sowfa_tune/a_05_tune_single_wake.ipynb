{
 "cells": [
  {
   "cell_type": "markdown",
   "metadata": {},
   "source": [
    "# Tune single wake"
   ]
  },
  {
   "cell_type": "markdown",
   "metadata": {},
   "source": [
    "Use the 8 m/s two turbine aligned case to find better tunings for new gauss model"
   ]
  },
  {
   "cell_type": "code",
   "execution_count": 1,
   "metadata": {},
   "outputs": [],
   "source": [
    "import matplotlib.pyplot as plt\n",
    "import floris.tools as wfct\n",
    "import numpy as np\n",
    "import pandas as pd\n",
    "import copy\n",
    "import seaborn as sns\n",
    "import pickle\n",
    "from scipy.optimize import minimize"
   ]
  },
  {
   "cell_type": "markdown",
   "metadata": {},
   "source": [
    "## Load FLORIS models and SOWFA DATA"
   ]
  },
  {
   "cell_type": "code",
   "execution_count": 2,
   "metadata": {},
   "outputs": [],
   "source": [
    "df = pickle.load( open( \"sowfa_04.p\", \"rb\" ) )\n",
    "fi_dict = pickle.load( open( \"floris_models.p\", \"rb\" ) )"
   ]
  },
  {
   "cell_type": "markdown",
   "metadata": {},
   "source": [
    "## Limit DF to 2 turbine aligned cases"
   ]
  },
  {
   "cell_type": "code",
   "execution_count": 3,
   "metadata": {},
   "outputs": [
    {
     "name": "stdout",
     "output_type": "stream",
     "text": [
      "(679, 21)\n"
     ]
    },
    {
     "data": {
      "text/plain": [
       "(95, 21)"
      ]
     },
     "execution_count": 3,
     "metadata": {},
     "output_type": "execute_result"
    }
   ],
   "source": [
    "# Limit to aligned only\n",
    "print(df.shape)\n",
    "df = df[df.yaw.apply(lambda x: np.max(np.abs(x)))==0.0]\n",
    "# Limit to 2-turbine\n",
    "df = df[df.num_turbines==2]\n",
    "df.shape"
   ]
  },
  {
   "cell_type": "code",
   "execution_count": 4,
   "metadata": {},
   "outputs": [
    {
     "data": {
      "text/plain": [
       "(23, 21)"
      ]
     },
     "execution_count": 4,
     "metadata": {},
     "output_type": "execute_result"
    }
   ],
   "source": [
    "# Limit to 8 m/s\n",
    "df = df[df.sowfa_U0==8.]\n",
    "df.shape"
   ]
  },
  {
   "cell_type": "code",
   "execution_count": 5,
   "metadata": {},
   "outputs": [
    {
     "data": {
      "text/html": [
       "<div>\n",
       "<style scoped>\n",
       "    .dataframe tbody tr th:only-of-type {\n",
       "        vertical-align: middle;\n",
       "    }\n",
       "\n",
       "    .dataframe tbody tr th {\n",
       "        vertical-align: top;\n",
       "    }\n",
       "\n",
       "    .dataframe thead th {\n",
       "        text-align: right;\n",
       "    }\n",
       "</style>\n",
       "<table border=\"1\" class=\"dataframe\">\n",
       "  <thead>\n",
       "    <tr style=\"text-align: right;\">\n",
       "      <th></th>\n",
       "      <th>Precursor</th>\n",
       "      <th>case_name</th>\n",
       "      <th>floris_TI</th>\n",
       "      <th>floris_U0</th>\n",
       "      <th>layout_x</th>\n",
       "      <th>layout_y</th>\n",
       "      <th>num_turbines</th>\n",
       "      <th>path</th>\n",
       "      <th>sim_length</th>\n",
       "      <th>sowfa_TI</th>\n",
       "      <th>...</th>\n",
       "      <th>yaw</th>\n",
       "      <th>power</th>\n",
       "      <th>ti</th>\n",
       "      <th>d_spacing</th>\n",
       "      <th>wake_table</th>\n",
       "      <th>freestream_gauss</th>\n",
       "      <th>freestream_gauss_tune</th>\n",
       "      <th>freestream_gch_paper</th>\n",
       "      <th>freestream_legacy</th>\n",
       "      <th>freestream_ti</th>\n",
       "    </tr>\n",
       "    <tr>\n",
       "      <th>casename</th>\n",
       "      <th></th>\n",
       "      <th></th>\n",
       "      <th></th>\n",
       "      <th></th>\n",
       "      <th></th>\n",
       "      <th></th>\n",
       "      <th></th>\n",
       "      <th></th>\n",
       "      <th></th>\n",
       "      <th></th>\n",
       "      <th></th>\n",
       "      <th></th>\n",
       "      <th></th>\n",
       "      <th></th>\n",
       "      <th></th>\n",
       "      <th></th>\n",
       "      <th></th>\n",
       "      <th></th>\n",
       "      <th></th>\n",
       "      <th></th>\n",
       "      <th></th>\n",
       "    </tr>\n",
       "  </thead>\n",
       "  <tbody>\n",
       "    <tr>\n",
       "      <th>c_1</th>\n",
       "      <td>neutral_5kmx2kmx1km\\n</td>\n",
       "      <td>c_08_highTI_D05_R-1_y00</td>\n",
       "      <td>0.09</td>\n",
       "      <td>8.38</td>\n",
       "      <td>(1000.0, 1630.0)</td>\n",
       "      <td>(1000.0, 937.0)</td>\n",
       "      <td>2</td>\n",
       "      <td>sowfa_library (Paul.fleming@nrel.gov)/full_run...</td>\n",
       "      <td>2000.0</td>\n",
       "      <td>0.1</td>\n",
       "      <td>...</td>\n",
       "      <td>[0.0, 0.0]</td>\n",
       "      <td>[1937.5, 1072.3]</td>\n",
       "      <td>[0.09297835821594881, 0.17988567028143654]</td>\n",
       "      <td>5.0</td>\n",
       "      <td>[0, 1]</td>\n",
       "      <td>8.372666</td>\n",
       "      <td>8.394857</td>\n",
       "      <td>8.372666</td>\n",
       "      <td>8.372666</td>\n",
       "      <td>0.092978</td>\n",
       "    </tr>\n",
       "    <tr>\n",
       "      <th>c_4</th>\n",
       "      <td>neutral_5kmx2kmx1km\\n</td>\n",
       "      <td>c_08_highTI_D05_R00_y00</td>\n",
       "      <td>0.09</td>\n",
       "      <td>8.38</td>\n",
       "      <td>(1000.0, 1630.0)</td>\n",
       "      <td>(1000.0, 1000.0)</td>\n",
       "      <td>2</td>\n",
       "      <td>sowfa_library (Paul.fleming@nrel.gov)/full_run...</td>\n",
       "      <td>2000.0</td>\n",
       "      <td>0.1</td>\n",
       "      <td>...</td>\n",
       "      <td>[0.0, 0.0]</td>\n",
       "      <td>[1938.0, 752.7]</td>\n",
       "      <td>[0.09285372321562335, 0.10368956548356832]</td>\n",
       "      <td>5.0</td>\n",
       "      <td>[0, 1]</td>\n",
       "      <td>8.373387</td>\n",
       "      <td>8.395580</td>\n",
       "      <td>8.373387</td>\n",
       "      <td>8.373387</td>\n",
       "      <td>0.092854</td>\n",
       "    </tr>\n",
       "    <tr>\n",
       "      <th>c_7</th>\n",
       "      <td>neutral_5kmx2kmx1km\\n</td>\n",
       "      <td>c_08_highTI_D05_R01_y00</td>\n",
       "      <td>0.09</td>\n",
       "      <td>8.38</td>\n",
       "      <td>(1000.0, 1630.0)</td>\n",
       "      <td>(1000.0, 1063.0)</td>\n",
       "      <td>2</td>\n",
       "      <td>sowfa_library (Paul.fleming@nrel.gov)/full_run...</td>\n",
       "      <td>2000.0</td>\n",
       "      <td>0.1</td>\n",
       "      <td>...</td>\n",
       "      <td>[0.0, 0.0]</td>\n",
       "      <td>[1936.5, 1217.5]</td>\n",
       "      <td>[0.09287234272241693, 0.18262414962645512]</td>\n",
       "      <td>5.0</td>\n",
       "      <td>[0, 1]</td>\n",
       "      <td>8.371224</td>\n",
       "      <td>8.393411</td>\n",
       "      <td>8.371224</td>\n",
       "      <td>8.371224</td>\n",
       "      <td>0.092872</td>\n",
       "    </tr>\n",
       "    <tr>\n",
       "      <th>c_9</th>\n",
       "      <td>neutral_5kmx2kmx1km\\n</td>\n",
       "      <td>B_031_nhigh_yaw_base_Lno3</td>\n",
       "      <td>0.09</td>\n",
       "      <td>8.38</td>\n",
       "      <td>(1000.0, 1756.0)</td>\n",
       "      <td>(850.0, 850.0)</td>\n",
       "      <td>2</td>\n",
       "      <td>sowfa_library (Paul.fleming@nrel.gov)/full_run...</td>\n",
       "      <td>2000.0</td>\n",
       "      <td>0.1</td>\n",
       "      <td>...</td>\n",
       "      <td>[0.0, 0.0]</td>\n",
       "      <td>[1544.4, 777.9]</td>\n",
       "      <td>[0.11618824493314393, 0.15359956312474723]</td>\n",
       "      <td>6.0</td>\n",
       "      <td>[0, 1]</td>\n",
       "      <td>7.762017</td>\n",
       "      <td>7.782589</td>\n",
       "      <td>7.762017</td>\n",
       "      <td>7.762017</td>\n",
       "      <td>0.116188</td>\n",
       "    </tr>\n",
       "    <tr>\n",
       "      <th>c_13</th>\n",
       "      <td>neutral_5kmx2kmx1km\\n</td>\n",
       "      <td>C_031_nhigh_yaw_base_Lno3</td>\n",
       "      <td>0.09</td>\n",
       "      <td>8.38</td>\n",
       "      <td>(1000.0, 1756.0)</td>\n",
       "      <td>(1000.0, 1000.0)</td>\n",
       "      <td>2</td>\n",
       "      <td>sowfa_library (Paul.fleming@nrel.gov)/full_run...</td>\n",
       "      <td>2000.0</td>\n",
       "      <td>0.1</td>\n",
       "      <td>...</td>\n",
       "      <td>[0.0, 0.0]</td>\n",
       "      <td>[1940.5, 849.7]</td>\n",
       "      <td>[0.09288069329397876, 0.11507991641962763]</td>\n",
       "      <td>6.0</td>\n",
       "      <td>[0, 1]</td>\n",
       "      <td>8.376989</td>\n",
       "      <td>8.399191</td>\n",
       "      <td>8.376989</td>\n",
       "      <td>8.376989</td>\n",
       "      <td>0.092881</td>\n",
       "    </tr>\n",
       "  </tbody>\n",
       "</table>\n",
       "<p>5 rows × 21 columns</p>\n",
       "</div>"
      ],
      "text/plain": [
       "                      Precursor                  case_name  floris_TI  \\\n",
       "casename                                                                \n",
       "c_1       neutral_5kmx2kmx1km\\n    c_08_highTI_D05_R-1_y00       0.09   \n",
       "c_4       neutral_5kmx2kmx1km\\n    c_08_highTI_D05_R00_y00       0.09   \n",
       "c_7       neutral_5kmx2kmx1km\\n    c_08_highTI_D05_R01_y00       0.09   \n",
       "c_9       neutral_5kmx2kmx1km\\n  B_031_nhigh_yaw_base_Lno3       0.09   \n",
       "c_13      neutral_5kmx2kmx1km\\n  C_031_nhigh_yaw_base_Lno3       0.09   \n",
       "\n",
       "          floris_U0          layout_x          layout_y  num_turbines  \\\n",
       "casename                                                                \n",
       "c_1            8.38  (1000.0, 1630.0)   (1000.0, 937.0)             2   \n",
       "c_4            8.38  (1000.0, 1630.0)  (1000.0, 1000.0)             2   \n",
       "c_7            8.38  (1000.0, 1630.0)  (1000.0, 1063.0)             2   \n",
       "c_9            8.38  (1000.0, 1756.0)    (850.0, 850.0)             2   \n",
       "c_13           8.38  (1000.0, 1756.0)  (1000.0, 1000.0)             2   \n",
       "\n",
       "                                                       path  sim_length  \\\n",
       "casename                                                                  \n",
       "c_1       sowfa_library (Paul.fleming@nrel.gov)/full_run...      2000.0   \n",
       "c_4       sowfa_library (Paul.fleming@nrel.gov)/full_run...      2000.0   \n",
       "c_7       sowfa_library (Paul.fleming@nrel.gov)/full_run...      2000.0   \n",
       "c_9       sowfa_library (Paul.fleming@nrel.gov)/full_run...      2000.0   \n",
       "c_13      sowfa_library (Paul.fleming@nrel.gov)/full_run...      2000.0   \n",
       "\n",
       "          sowfa_TI  ...         yaw             power  \\\n",
       "casename            ...                                 \n",
       "c_1            0.1  ...  [0.0, 0.0]  [1937.5, 1072.3]   \n",
       "c_4            0.1  ...  [0.0, 0.0]   [1938.0, 752.7]   \n",
       "c_7            0.1  ...  [0.0, 0.0]  [1936.5, 1217.5]   \n",
       "c_9            0.1  ...  [0.0, 0.0]   [1544.4, 777.9]   \n",
       "c_13           0.1  ...  [0.0, 0.0]   [1940.5, 849.7]   \n",
       "\n",
       "                                                  ti d_spacing  wake_table  \\\n",
       "casename                                                                     \n",
       "c_1       [0.09297835821594881, 0.17988567028143654]       5.0      [0, 1]   \n",
       "c_4       [0.09285372321562335, 0.10368956548356832]       5.0      [0, 1]   \n",
       "c_7       [0.09287234272241693, 0.18262414962645512]       5.0      [0, 1]   \n",
       "c_9       [0.11618824493314393, 0.15359956312474723]       6.0      [0, 1]   \n",
       "c_13      [0.09288069329397876, 0.11507991641962763]       6.0      [0, 1]   \n",
       "\n",
       "         freestream_gauss  freestream_gauss_tune  freestream_gch_paper  \\\n",
       "casename                                                                 \n",
       "c_1              8.372666               8.394857              8.372666   \n",
       "c_4              8.373387               8.395580              8.373387   \n",
       "c_7              8.371224               8.393411              8.371224   \n",
       "c_9              7.762017               7.782589              7.762017   \n",
       "c_13             8.376989               8.399191              8.376989   \n",
       "\n",
       "          freestream_legacy  freestream_ti  \n",
       "casename                                    \n",
       "c_1                8.372666       0.092978  \n",
       "c_4                8.373387       0.092854  \n",
       "c_7                8.371224       0.092872  \n",
       "c_9                7.762017       0.116188  \n",
       "c_13               8.376989       0.092881  \n",
       "\n",
       "[5 rows x 21 columns]"
      ]
     },
     "execution_count": 5,
     "metadata": {},
     "output_type": "execute_result"
    }
   ],
   "source": [
    "df.head()"
   ]
  },
  {
   "cell_type": "markdown",
   "metadata": {},
   "source": [
    "## How do the models start out?"
   ]
  },
  {
   "cell_type": "code",
   "execution_count": 6,
   "metadata": {},
   "outputs": [],
   "source": [
    "def get_t1_powers(fi, floris_label, df):\n",
    "    print(floris_label)\n",
    "    t1_powers = []\n",
    "    for i, row in df.iterrows():\n",
    "\n",
    "        # Determine free-stream wind speed column\n",
    "        freestream_name = 'freestream_' + floris_label\n",
    "\n",
    "        \n",
    "        # Match the layout\n",
    "        if (floris_label == 'gch_paper') or (floris_label == 'legacy') :\n",
    "                fi.reinitialize_flow_field(layout_array=[row.layout_x,row.layout_y],\n",
    "                               wind_speed=[row[freestream_name]],\n",
    "                              turbulence_intensity=[row.floris_TI])\n",
    "        else:\n",
    "            fi.reinitialize_flow_field(layout_array=[row.layout_x,row.layout_y],\n",
    "                                       wind_speed=[row[freestream_name]],\n",
    "                                      turbulence_intensity=[row.freestream_ti])\n",
    "\n",
    "\n",
    "        fi.calculate_wake()\n",
    "        \n",
    "        t1_powers.append(fi.get_turbine_power()[1]/1000.)\n",
    "    return np.array(t1_powers)"
   ]
  },
  {
   "cell_type": "code",
   "execution_count": 7,
   "metadata": {},
   "outputs": [
    {
     "name": "stdout",
     "output_type": "stream",
     "text": [
      "gauss\n",
      "gauss_tune\n",
      "gch_paper\n",
      "legacy\n"
     ]
    }
   ],
   "source": [
    "for floris_key in fi_dict:\n",
    "    (fi, floris_color, floris_marker, floris_label) = fi_dict[floris_key]\n",
    "    \n",
    "    t1_powers = get_t1_powers(fi, floris_label, df)\n",
    "    \n",
    "    power_key = 'power_' + floris_label\n",
    "    df[power_key] = t1_powers"
   ]
  },
  {
   "cell_type": "code",
   "execution_count": 8,
   "metadata": {},
   "outputs": [],
   "source": [
    "# Pull out the t1 sowfa power\n",
    "df['sowfa_1'] = df.power.apply(lambda x: x[1])"
   ]
  },
  {
   "cell_type": "code",
   "execution_count": 9,
   "metadata": {},
   "outputs": [
    {
     "data": {
      "text/plain": [
       "Text(0, 0.5, 'FLORIS Power')"
      ]
     },
     "execution_count": 9,
     "metadata": {},
     "output_type": "execute_result"
    },
    {
     "data": {
      "image/png": "[encoded data removed]",
      "text/plain": [
       "<Figure size 576x432 with 1 Axes>"
      ]
     },
     "metadata": {
      "needs_background": "light"
     },
     "output_type": "display_data"
    }
   ],
   "source": [
    "# How does this look in absolute terms?\n",
    "fig, ax = plt.subplots(figsize=(8,6))\n",
    "ax.plot(df.sowfa_1,df.sowfa_1,'ks-')\n",
    "for floris_key in fi_dict:\n",
    "    (fi, floris_color, floris_marker, floris_label) = fi_dict[floris_key]\n",
    "    power_signal = 'power_' + floris_label\n",
    "    ax.plot(df.sowfa_1,df[power_signal],color=floris_color,marker=floris_marker,label=floris_label,ls='None')\n",
    "\n",
    "ax.legend()\n",
    "ax.set_xlabel('SOWFA Power')\n",
    "ax.set_ylabel('FLORIS Power')"
   ]
  },
  {
   "cell_type": "code",
   "execution_count": 10,
   "metadata": {},
   "outputs": [
    {
     "data": {
      "text/plain": [
       "<matplotlib.lines.Line2D at 0x119e8bbd0>"
      ]
     },
     "execution_count": 10,
     "metadata": {},
     "output_type": "execute_result"
    },
    {
     "data": {
      "image/png": "[encoded data removed]",
      "text/plain": [
       "<Figure size 576x432 with 1 Axes>"
      ]
     },
     "metadata": {
      "needs_background": "light"
     },
     "output_type": "display_data"
    }
   ],
   "source": [
    "# How does error look\n",
    "fig, ax = plt.subplots(figsize=(8,6))\n",
    "\n",
    "for floris_key in fi_dict:\n",
    "    (fi, floris_color, floris_marker, floris_label) = fi_dict[floris_key]\n",
    "    power_signal = 'power_' + floris_label\n",
    "    error_signal = 'error_' + floris_label\n",
    "    df[error_signal] = df[power_signal] - df.sowfa_1\n",
    "    ax.plot(df.sowfa_1,df[error_signal],color=floris_color,marker=floris_marker,label=floris_label,ls='None')\n",
    "\n",
    "ax.legend()\n",
    "ax.set_xlabel('SOWFA Power')\n",
    "ax.set_ylabel('FLORIS Power Error')\n",
    "ax.axhline(0,color='k')"
   ]
  },
  {
   "cell_type": "code",
   "execution_count": 11,
   "metadata": {},
   "outputs": [
    {
     "data": {
      "text/plain": [
       "<matplotlib.lines.Line2D at 0x119e9e350>"
      ]
     },
     "execution_count": 11,
     "metadata": {},
     "output_type": "execute_result"
    },
    {
     "data": {
      "image/png": "[encoded data removed]",
      "text/plain": [
       "<Figure size 576x432 with 1 Axes>"
      ]
     },
     "metadata": {
      "needs_background": "light"
     },
     "output_type": "display_data"
    }
   ],
   "source": [
    "# Plot again by d-spacing\n",
    "fig, ax = plt.subplots(figsize=(8,6))\n",
    "\n",
    "for floris_key in fi_dict:\n",
    "    (fi, floris_color, floris_marker, floris_label) = fi_dict[floris_key]\n",
    "    power_signal = 'power_' + floris_label\n",
    "    error_signal = 'error_' + floris_label\n",
    "    df[error_signal] = df[power_signal] - df.sowfa_1\n",
    "    ax.plot(df.d_spacing,df[error_signal],color=floris_color,marker=floris_marker,label=floris_label,ls='None')\n",
    "\n",
    "ax.legend()\n",
    "ax.set_xlabel('SOWFA Power')\n",
    "ax.set_ylabel('FLORIS Power Error')\n",
    "ax.axhline(0,color='k')"
   ]
  },
  {
   "cell_type": "code",
   "execution_count": 12,
   "metadata": {},
   "outputs": [
    {
     "name": "stderr",
     "output_type": "stream",
     "text": [
      "/Users/pfleming/opt/anaconda3/envs/floris/lib/python3.7/site-packages/seaborn/axisgrid.py:715: UserWarning: Using the boxplot function without specifying `order` is likely to produce an incorrect plot.\n",
      "  warnings.warn(warning)\n"
     ]
    },
    {
     "data": {
      "text/plain": [
       "<seaborn.axisgrid.FacetGrid at 0x119d63250>"
      ]
     },
     "execution_count": 12,
     "metadata": {},
     "output_type": "execute_result"
    },
    {
     "data": {
      "image/png": "[encoded data removed]",
      "text/plain": [
       "<Figure size 872x216 with 4 Axes>"
      ]
     },
     "metadata": {
      "needs_background": "light"
     },
     "output_type": "display_data"
    }
   ],
   "source": [
    "error_columns = [c for c in df.columns if 'error' in c]\n",
    "df_sub = df[error_columns + ['d_spacing']]\n",
    "df_sub = pd.melt(df_sub,id_vars='d_spacing')\n",
    "g = sns.FacetGrid(df_sub,col='variable',aspect=1)\n",
    "g.map(sns.boxplot,'d_spacing','value')\n",
    "for ax in g.axes.flatten():\n",
    "    ax.axhline(0,color='k')\n",
    "g.add_legend()"
   ]
  },
  {
   "cell_type": "code",
   "execution_count": null,
   "metadata": {},
   "outputs": [],
   "source": []
  },
  {
   "cell_type": "markdown",
   "metadata": {},
   "source": [
    "Shows that previous version of gauss had reasonable calibration for deeper wakes but under-forecasted medium, probably not wide enough"
   ]
  },
  {
   "cell_type": "markdown",
   "metadata": {},
   "source": [
    "## How do the overall errors compare"
   ]
  },
  {
   "cell_type": "code",
   "execution_count": 13,
   "metadata": {},
   "outputs": [],
   "source": [
    "def compute_rms(df,floris_column):\n",
    "    error_column = df[floris_column] \n",
    "    return np.sqrt(np.sum((error_column**2))/len(error_column))"
   ]
  },
  {
   "cell_type": "code",
   "execution_count": 14,
   "metadata": {},
   "outputs": [
    {
     "name": "stdout",
     "output_type": "stream",
     "text": [
      "gauss : 95.36319318641384591\n",
      "gauss_tune : 127.25599708134250419\n",
      "gch_paper : 91.9056028730994\n",
      "legacy : 110.89770917628563\n"
     ]
    }
   ],
   "source": [
    "for floris_key in fi_dict:\n",
    "    (fi, floris_color, floris_marker, floris_label) = fi_dict[floris_key]\n",
    "\n",
    "    error_signal = 'error_' + floris_label\n",
    "\n",
    "    print(floris_label,':',compute_rms(df,error_signal))\n"
   ]
  },
  {
   "cell_type": "markdown",
   "metadata": {},
   "source": [
    "New version without tuning is, as we know, worse"
   ]
  },
  {
   "cell_type": "markdown",
   "metadata": {},
   "source": [
    "## Try to find an improved tuning for gauss ka/kb"
   ]
  },
  {
   "cell_type": "code",
   "execution_count": 15,
   "metadata": {},
   "outputs": [],
   "source": [
    "# Define a tuning error function\n",
    "(fi_tune, floris_color, floris_marker, floris_label) = fi_dict['gt']\n",
    "\n",
    "model_params = fi_tune.get_model_parameters()\n",
    "\n",
    "\n",
    "def tuning_error_function(x): #where x = [ka, kb]\n",
    "    \n",
    "    # Change the parameters\n",
    "    model_params['Wake Velocity Parameters']['ka'] = x[0] * 0.38 # how much to scale inital by\n",
    "    model_params['Wake Velocity Parameters']['kb'] = .002 # x[1] * 0.004 * 10\n",
    "    fi_tune.set_model_parameters(model_params,verbose=False)\n",
    "    \n",
    "    # Get the powers for each case\n",
    "    t1_powers = np.zeros_like(df.sowfa_1.values)\n",
    "    num_case = len(t1_powers)\n",
    "    for idx, (i, row) in enumerate(df.iterrows()):\n",
    "\n",
    "        # Determine free-stream wind speed column\n",
    "        freestream_name = 'freestream_gauss_tune'\n",
    "        \n",
    "        # Match the layout\n",
    "\n",
    "        fi_tune.reinitialize_flow_field(layout_array=[row.layout_x,row.layout_y],\n",
    "                                   wind_speed=[row[freestream_name]],\n",
    "                                  turbulence_intensity=[row.freestream_ti])\n",
    "\n",
    "\n",
    "        fi_tune.calculate_wake()\n",
    "        \n",
    "        t1_powers[idx] = fi_tune.get_turbine_power()[1]/1000.\n",
    "        \n",
    "    # Return the RMS error\n",
    "    error_values = df.sowfa_1.values - t1_powers\n",
    "    rms = np.sqrt(np.sum((error_values**2))/num_case)\n",
    "    print(x,x[0] * 0.38,x[1] * 0.004,rms)\n",
    "    return rms\n",
    "        \n",
    "        \n",
    "    "
   ]
  },
  {
   "cell_type": "code",
   "execution_count": 16,
   "metadata": {},
   "outputs": [
    {
     "name": "stdout",
     "output_type": "stream",
     "text": [
      "[1. 1.] 0.38 0.004 117.29003094175701\n",
      "[1.00000001 1.        ] 0.3800000038 0.004 117.29003256905182\n",
      "[1.         1.00000001] 0.38 0.00400000004 117.29003094175701\n",
      "[0.001 1.   ] 0.00038 0.004 200.52558391181415\n",
      "[0.00100001 1.        ] 0.0003800038 0.004 200.52557993779098\n",
      "[1.00000000e-03 1.00000001e+00] 0.00038 0.00400000004 200.52558391181415\n",
      "[0.64700259 1.        ] 0.24586098330028286 0.004 70.58637618014723\n",
      "[0.6470026 1.       ] 0.2458609871002829 0.004 70.5863767629329\n",
      "[0.64700259 1.00000001] 0.24586098330028286 0.00400000004 70.58637618014723\n",
      "[0.45004707 1.        ] 0.17101788739153023 0.004 77.27287553092074\n",
      "[0.45004708 1.        ] 0.17101789119153024 0.004 77.27287422328136\n",
      "[0.45004707 1.00000001] 0.17101788739153023 0.00400000004 77.27287553092074\n",
      "[0.58395906 1.        ] 0.22190444230228432 0.004 68.60553069482802\n",
      "[0.58395907 1.        ] 0.22190444610228435 0.004 68.60553072070336\n",
      "[0.58395906 1.00000001] 0.22190444230228432 0.00400000004 68.60553069482802\n",
      "[0.58102991 1.        ] 0.2207913662085308 0.004 68.6021101844974\n",
      "[0.58102992 1.        ] 0.22079137000853083 0.004 68.60211018195012\n",
      "[0.58102991 1.00000001] 0.2207913662085308 0.00400000004 68.6021101844974\n",
      "[0.58129243 1.        ] 0.22089112190471316 0.004 68.60207683527125\n",
      "[0.58129244 1.        ] 0.22089112570471317 0.004 68.60207683527778\n",
      "[0.58129243 1.00000001] 0.22089112190471316 0.00400000004 68.60207683527125\n",
      "[0.58129175 1.        ] 0.2208908665606834 0.004 68.60207683505713\n",
      "[0.58129176 1.        ] 0.22089087036068342 0.004 68.60207683505702\n",
      "[0.58129175 1.00000001] 0.2208908665606834 0.00400000004 68.60207683505713\n"
     ]
    }
   ],
   "source": [
    "# Find well fit values\n",
    "result = minimize(tuning_error_function, x0=[1, 1],bounds=[(0.001,100.),(0.0001,100.)])"
   ]
  },
  {
   "cell_type": "code",
   "execution_count": 17,
   "metadata": {},
   "outputs": [
    {
     "data": {
      "text/plain": [
       "array([0.58129175, 1.        ])"
      ]
     },
     "execution_count": 17,
     "metadata": {},
     "output_type": "execute_result"
    }
   ],
   "source": [
    "result.x"
   ]
  },
  {
   "cell_type": "code",
   "execution_count": 18,
   "metadata": {},
   "outputs": [
    {
     "data": {
      "text/plain": [
       "array([0.58129175, 1.        ])"
      ]
     },
     "execution_count": 18,
     "metadata": {},
     "output_type": "execute_result"
    }
   ],
   "source": [
    "result.x"
   ]
  },
  {
   "cell_type": "code",
   "execution_count": 1,
   "metadata": {},
   "outputs": [
    {
     "data": {
      "text/plain": [
       "0.22077999999999998"
      ]
     },
     "execution_count": 1,
     "metadata": {},
     "output_type": "execute_result"
    }
   ],
   "source": [
    " 0.38 * .581"
   ]
  },
  {
   "cell_type": "code",
   "execution_count": 19,
   "metadata": {},
   "outputs": [
    {
     "name": "stdout",
     "output_type": "stream",
     "text": [
      "Wake velocity parameter alpha set to 0.58\n",
      "Wake velocity parameter beta set to 0.077\n",
      "Wake velocity parameter calculate_VW_velocities set to True\n",
      "Wake velocity parameter eps_gain set to 0.3\n",
      "Wake velocity parameter ka set to 0.22077999999999998\n",
      "Wake velocity parameter kb set to 0.002\n",
      "Wake velocity parameter use_yaw_added_recovery set to True\n",
      "Wake velocity parameter yaw_recovery_alpha set to 0.03\n",
      "Wake deflection parameter ad set to 0.0\n",
      "Wake deflection parameter alpha set to 0.58\n",
      "Wake deflection parameter bd set to 0.0\n",
      "Wake deflection parameter beta set to 0.077\n",
      "Wake deflection parameter eps_gain set to 0.3\n",
      "Wake deflection parameter ka set to 0.38\n",
      "Wake deflection parameter kb set to 0.004\n",
      "Wake deflection parameter use_secondary_steering set to True\n",
      "Wake turbulence parameter ti_ai set to 0.8\n",
      "Wake turbulence parameter ti_constant set to 0.73\n",
      "Wake turbulence parameter ti_downstream set to -0.275\n",
      "Wake turbulence parameter ti_initial set to 0.1\n"
     ]
    }
   ],
   "source": [
    "# Based on the above analysis, let's just assume that an approximate 50% drop\n",
    "# Add this tuned value to dictionary and compare\n",
    "model_params['Wake Velocity Parameters']['ka'] = 0.38 * .581 # result.x[0] # 0.38\n",
    "model_params['Wake Velocity Parameters']['kb'] = 0.002 # result.x[1] # 0.004\n",
    "fi_tune.set_model_parameters(model_params)\n",
    "\n",
    "fi_dict['gt'] = (fi_tune,'r','d','gauss_tune')"
   ]
  },
  {
   "cell_type": "code",
   "execution_count": 20,
   "metadata": {},
   "outputs": [
    {
     "name": "stdout",
     "output_type": "stream",
     "text": [
      "gauss\n",
      "gauss_tune\n",
      "gch_paper\n",
      "legacy\n"
     ]
    }
   ],
   "source": [
    "# Recalculate\n",
    "for floris_key in fi_dict:\n",
    "    (fi, floris_color, floris_marker,floris_label) = fi_dict[floris_key]\n",
    "    \n",
    "    t1_powers = get_t1_powers(fi, floris_label, df)\n",
    "    \n",
    "    power_key = 'power_' + floris_label\n",
    "    df[power_key] = t1_powers"
   ]
  },
  {
   "cell_type": "code",
   "execution_count": 21,
   "metadata": {},
   "outputs": [
    {
     "data": {
      "text/plain": [
       "Text(0, 0.5, 'FLORIS Power')"
      ]
     },
     "execution_count": 21,
     "metadata": {},
     "output_type": "execute_result"
    },
    {
     "data": {
      "image/png": "[encoded data removed]",
      "text/plain": [
       "<Figure size 576x432 with 1 Axes>"
      ]
     },
     "metadata": {
      "needs_background": "light"
     },
     "output_type": "display_data"
    }
   ],
   "source": [
    "# How does this look in absolute terms?\n",
    "fig, ax = plt.subplots(figsize=(8,6))\n",
    "ax.plot(df.sowfa_1,df.sowfa_1,'ks-')\n",
    "for floris_key in fi_dict:\n",
    "    (fi, floris_color, floris_marker, floris_label) = fi_dict[floris_key]\n",
    "    power_signal = 'power_' + floris_label\n",
    "    ax.plot(df.sowfa_1,df[power_signal],color=floris_color,marker=floris_marker,label=floris_label,ls='None')\n",
    "\n",
    "ax.legend()\n",
    "ax.set_xlabel('SOWFA Power')\n",
    "ax.set_ylabel('FLORIS Power')"
   ]
  },
  {
   "cell_type": "code",
   "execution_count": 22,
   "metadata": {},
   "outputs": [
    {
     "data": {
      "text/plain": [
       "<matplotlib.lines.Line2D at 0x11c983710>"
      ]
     },
     "execution_count": 22,
     "metadata": {},
     "output_type": "execute_result"
    },
    {
     "data": {
      "image/png": "[encoded data removed]",
      "text/plain": [
       "<Figure size 576x432 with 1 Axes>"
      ]
     },
     "metadata": {
      "needs_background": "light"
     },
     "output_type": "display_data"
    }
   ],
   "source": [
    "# Plot again by d-spacing\n",
    "fig, ax = plt.subplots(figsize=(8,6))\n",
    "\n",
    "for floris_key in fi_dict:\n",
    "    (fi, floris_color, floris_marker, floris_label) = fi_dict[floris_key]\n",
    "    power_signal = 'power_' + floris_label\n",
    "    error_signal = 'error_' + floris_label\n",
    "    df[error_signal] = df[power_signal] - df.sowfa_1\n",
    "    ax.plot(df.d_spacing,df[error_signal],color=floris_color,marker=floris_marker,label=floris_label,ls='None')\n",
    "\n",
    "ax.legend()\n",
    "ax.set_xlabel('SOWFA Power')\n",
    "ax.set_ylabel('FLORIS Power Error')\n",
    "ax.axhline(0,color='k')"
   ]
  },
  {
   "cell_type": "code",
   "execution_count": 23,
   "metadata": {},
   "outputs": [
    {
     "name": "stderr",
     "output_type": "stream",
     "text": [
      "/Users/pfleming/opt/anaconda3/envs/floris/lib/python3.7/site-packages/seaborn/axisgrid.py:715: UserWarning: Using the boxplot function without specifying `order` is likely to produce an incorrect plot.\n",
      "  warnings.warn(warning)\n"
     ]
    },
    {
     "data": {
      "text/plain": [
       "<seaborn.axisgrid.FacetGrid at 0x119e4f550>"
      ]
     },
     "execution_count": 23,
     "metadata": {},
     "output_type": "execute_result"
    },
    {
     "data": {
      "image/png": "[encoded data removed]",
      "text/plain": [
       "<Figure size 872x216 with 4 Axes>"
      ]
     },
     "metadata": {
      "needs_background": "light"
     },
     "output_type": "display_data"
    }
   ],
   "source": [
    "error_columns = [c for c in df.columns if 'error' in c]\n",
    "df_sub = df[error_columns + ['d_spacing']]\n",
    "df_sub = pd.melt(df_sub,id_vars='d_spacing')\n",
    "g = sns.FacetGrid(df_sub,col='variable',aspect=1)\n",
    "g.map(sns.boxplot,'d_spacing','value')\n",
    "for ax in g.axes.flatten():\n",
    "    ax.axhline(0,color='k')\n",
    "g.add_legend()"
   ]
  },
  {
   "cell_type": "code",
   "execution_count": 24,
   "metadata": {},
   "outputs": [
    {
     "name": "stdout",
     "output_type": "stream",
     "text": [
      "gauss : 95.36319318641384591\n",
      "gauss_tune : 68.60211823939645362\n",
      "gch_paper : 91.9056028730994\n",
      "legacy : 110.89770917628563\n"
     ]
    }
   ],
   "source": [
    "for floris_key in fi_dict:\n",
    "    (fi, floris_color, floris_marker, floris_label) = fi_dict[floris_key]\n",
    "\n",
    "    error_signal = 'error_' + floris_label\n",
    "\n",
    "    print(floris_label,':',compute_rms(df,error_signal))\n"
   ]
  },
  {
   "cell_type": "code",
   "execution_count": 25,
   "metadata": {},
   "outputs": [
    {
     "data": {
      "image/png": "[encoded data removed]",
      "text/plain": [
       "<Figure size 776.75x432 with 2 Axes>"
      ]
     },
     "metadata": {
      "needs_background": "light"
     },
     "output_type": "display_data"
    }
   ],
   "source": [
    "# Lets replot this by sowfa ti\n",
    "power_columns = [c for c in df.columns if 'power_' in c]\n",
    "df_sub = df[['sowfa_TI','sowfa_1'] + power_columns]\n",
    "df_sub = pd.melt(df_sub,id_vars=['sowfa_TI','sowfa_1'])\n",
    "g = sns.FacetGrid(df_sub,row='sowfa_TI',hue='variable',aspect=3)\n",
    "g.map(plt.scatter,'sowfa_1','value')\n",
    "g.add_legend()\n",
    "for ax in g.axes.flatten():\n",
    "    ax.plot([500,1400],[600,1400],'k--')"
   ]
  },
  {
   "cell_type": "code",
   "execution_count": 26,
   "metadata": {},
   "outputs": [
    {
     "data": {
      "text/plain": [
       "{'g': (<floris.tools.floris_interface.FlorisInterface at 0x1082c0890>,\n",
       "  'b',\n",
       "  's',\n",
       "  'gauss'),\n",
       " 'gt': (<floris.tools.floris_interface.FlorisInterface at 0x119e24e10>,\n",
       "  'r',\n",
       "  'd',\n",
       "  'gauss_tune'),\n",
       " 'gch': (<floris.tools.floris_interface.FlorisInterface at 0x119e295d0>,\n",
       "  'g',\n",
       "  'o',\n",
       "  'gch_paper'),\n",
       " 'leg': (<floris.tools.floris_interface.FlorisInterface at 0x119e2d810>,\n",
       "  'gray',\n",
       "  '^',\n",
       "  'legacy')}"
      ]
     },
     "execution_count": 26,
     "metadata": {},
     "output_type": "execute_result"
    }
   ],
   "source": [
    "# Save this new floris dictionary\n",
    "fi_dict\n"
   ]
  },
  {
   "cell_type": "code",
   "execution_count": 27,
   "metadata": {},
   "outputs": [],
   "source": [
    "pickle.dump( fi_dict, open( \"floris_models_2.p\", \"wb\" ) )"
   ]
  }
 ],
 "metadata": {
  "kernelspec": {
   "display_name": "Python 3.7.6 64-bit ('floris': conda)",
   "language": "python",
   "name": "python37664bitfloriscondabf631bda36b5440ea8c8f9e7c7e53550"
  },
  "language_info": {
   "codemirror_mode": {
    "name": "ipython",
    "version": 3
   },
   "file_extension": ".py",
   "mimetype": "text/x-python",
   "name": "python",
   "nbconvert_exporter": "python",
   "pygments_lexer": "ipython3",
   "version": "3.7.6"
  }
 },
 "nbformat": 4,
 "nbformat_minor": 4
}
