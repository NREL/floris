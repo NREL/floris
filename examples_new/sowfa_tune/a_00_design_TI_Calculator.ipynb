{
 "cells": [
  {
   "cell_type": "markdown",
   "metadata": {},
   "source": [
    "## Design TI Calculation function"
   ]
  },
  {
   "cell_type": "markdown",
   "metadata": {},
   "source": [
    "Use the turbine-power based approach to make a rough calculation of TI.  This removes TI as a free variable\n",
    "and hopefully makes tuning easier with one less non-uniqueness problem.  Based on methods explained in \n",
    "\n",
    "Based on Duc, T., Coupiac, O., Girard, N., Giebel, G., & Göçmen, T. (2018). Local turbulence parameterization improves the Jensen wake model and its implementation for power optimization of an operating wind farm. Wind Energy Science Discussions, (October), 1–23. https://doi.org/10.5194/wes-2018-62"
   ]
  },
  {
   "cell_type": "markdown",
   "metadata": {},
   "source": [
    "# Note that this method unfortunately breaks down at rated"
   ]
  },
  {
   "cell_type": "code",
   "execution_count": 1,
   "metadata": {},
   "outputs": [],
   "source": [
    "import matplotlib.pyplot as plt\n",
    "import floris.tools as wfct\n",
    "import numpy as np\n",
    "import pandas as pd\n",
    "import copy\n",
    "import seaborn as sns\n",
    "import pickle\n",
    "from scipy.interpolate import interp1d"
   ]
  },
  {
   "cell_type": "markdown",
   "metadata": {},
   "source": [
    "## Use FLORIS to build a crude wind speed estimator from power"
   ]
  },
  {
   "cell_type": "code",
   "execution_count": 2,
   "metadata": {},
   "outputs": [
    {
     "name": "stdout",
     "output_type": "stream",
     "text": [
      "<\n"
     ]
    }
   ],
   "source": [
    "fi_g = wfct.floris_interface.FlorisInterface(\"../example_input.json\")\n",
    "turbine = fi_g.floris.farm.turbines[0]"
   ]
  },
  {
   "cell_type": "code",
   "execution_count": 3,
   "metadata": {},
   "outputs": [],
   "source": [
    "ws = np.array(turbine.power_thrust_table['wind_speed'])"
   ]
  },
  {
   "cell_type": "code",
   "execution_count": 4,
   "metadata": {},
   "outputs": [],
   "source": [
    "cp = np.array(turbine.power_thrust_table['power'])"
   ]
  },
  {
   "cell_type": "code",
   "execution_count": 5,
   "metadata": {},
   "outputs": [],
   "source": [
    "fCpInterp = interp1d(ws, cp, fill_value='extrapolate')"
   ]
  },
  {
   "cell_type": "code",
   "execution_count": 6,
   "metadata": {},
   "outputs": [],
   "source": [
    "air_density = 1.225\n",
    "rotor_radius = 126/2.\n",
    "area = np.pi * rotor_radius**2\n",
    "\n",
    "def power_function(ws):\n",
    "    return 0.5 * air_density * area * fCpInterp(ws) * ws**3"
   ]
  },
  {
   "cell_type": "code",
   "execution_count": 7,
   "metadata": {},
   "outputs": [],
   "source": [
    "power = power_function(ws)"
   ]
  },
  {
   "cell_type": "code",
   "execution_count": 8,
   "metadata": {},
   "outputs": [
    {
     "data": {
      "text/plain": [
       "array([ 2. ,  2.5,  3. ,  3.5,  4. ,  4.5,  5. ,  5.5,  6. ,  6.5,  7. ,\n",
       "        7.5,  8. ,  8.5,  9. ,  9.5, 10. , 10.5, 11. , 11.5, 12. , 12.5,\n",
       "       13. , 13.5, 14. , 14.5, 15. , 15.5, 16. , 16.5, 17. , 17.5, 18. ,\n",
       "       18.5, 19. , 19.5, 20. , 20.5, 21. , 21.5, 22. , 22.5, 23. , 23.5,\n",
       "       24. , 24.5, 25. , 25.5])"
      ]
     },
     "execution_count": 8,
     "metadata": {},
     "output_type": "execute_result"
    }
   ],
   "source": [
    "ws"
   ]
  },
  {
   "cell_type": "code",
   "execution_count": 9,
   "metadata": {},
   "outputs": [],
   "source": [
    "ws_limit = ws[ws<12.0]\n",
    "pow_limit = power[ws<12.0]"
   ]
  },
  {
   "cell_type": "code",
   "execution_count": 10,
   "metadata": {},
   "outputs": [
    {
     "data": {
      "text/plain": [
       "[<matplotlib.lines.Line2D at 0x11d3b8910>]"
      ]
     },
     "execution_count": 10,
     "metadata": {},
     "output_type": "execute_result"
    },
    {
     "data": {
      "image/png": "[encoded data removed]",
      "text/plain": [
       "<Figure size 432x288 with 1 Axes>"
      ]
     },
     "metadata": {
      "needs_background": "light"
     },
     "output_type": "display_data"
    }
   ],
   "source": [
    "plt.plot(ws_limit,pow_limit)"
   ]
  },
  {
   "cell_type": "code",
   "execution_count": 11,
   "metadata": {},
   "outputs": [
    {
     "data": {
      "text/plain": [
       "array([      0.        ,       0.        ,   36722.17646948,\n",
       "         94656.64690022,  170596.22563973,  267749.19577529,\n",
       "        387646.60349914,  533961.58810258,  707405.81137472,\n",
       "        909996.03294889, 1142718.91539299, 1407498.38742067,\n",
       "       1707127.10702895, 2047333.37624772, 2430578.92269176,\n",
       "       2858309.94849889, 3329101.31470679, 3842973.47246078,\n",
       "       4403856.83160906, 4994945.14843245])"
      ]
     },
     "execution_count": 11,
     "metadata": {},
     "output_type": "execute_result"
    }
   ],
   "source": [
    "pow_limit"
   ]
  },
  {
   "cell_type": "code",
   "execution_count": 12,
   "metadata": {},
   "outputs": [
    {
     "data": {
      "text/plain": [
       "array([ 2. ,  2.5,  3. ,  3.5,  4. ,  4.5,  5. ,  5.5,  6. ,  6.5,  7. ,\n",
       "        7.5,  8. ,  8.5,  9. ,  9.5, 10. , 10.5, 11. , 11.5])"
      ]
     },
     "execution_count": 12,
     "metadata": {},
     "output_type": "execute_result"
    }
   ],
   "source": [
    "ws_limit"
   ]
  },
  {
   "cell_type": "code",
   "execution_count": 13,
   "metadata": {},
   "outputs": [],
   "source": [
    "ws_estimator = interp1d(pow_limit, ws_limit, fill_value='extrapolate')"
   ]
  },
  {
   "cell_type": "code",
   "execution_count": 14,
   "metadata": {},
   "outputs": [
    {
     "name": "stdout",
     "output_type": "stream",
     "text": [
      "../../examples/sowfa_example\n",
      "No preprocess file found\n"
     ]
    }
   ],
   "source": [
    "# Grab a data set\n",
    "si = wfct.sowfa_utilities.SowfaInterface('../../examples/sowfa_example')"
   ]
  },
  {
   "cell_type": "code",
   "execution_count": 15,
   "metadata": {},
   "outputs": [
    {
     "data": {
      "text/html": [
       "<div>\n",
       "<style scoped>\n",
       "    .dataframe tbody tr th:only-of-type {\n",
       "        vertical-align: middle;\n",
       "    }\n",
       "\n",
       "    .dataframe tbody tr th {\n",
       "        vertical-align: top;\n",
       "    }\n",
       "\n",
       "    .dataframe thead th {\n",
       "        text-align: right;\n",
       "    }\n",
       "</style>\n",
       "<table border=\"1\" class=\"dataframe\">\n",
       "  <thead>\n",
       "    <tr style=\"text-align: right;\">\n",
       "      <th></th>\n",
       "      <th>time</th>\n",
       "      <th>turbine</th>\n",
       "      <th>pitch</th>\n",
       "      <th>azimuth</th>\n",
       "      <th>nacYaw</th>\n",
       "      <th>torqueRotor</th>\n",
       "      <th>rotSpeedFiltered</th>\n",
       "      <th>powerRotor</th>\n",
       "      <th>powerGenerator</th>\n",
       "      <th>torqueGen</th>\n",
       "      <th>thrust</th>\n",
       "      <th>rotSpeed</th>\n",
       "    </tr>\n",
       "  </thead>\n",
       "  <tbody>\n",
       "    <tr>\n",
       "      <th>751</th>\n",
       "      <td>300.4</td>\n",
       "      <td>0</td>\n",
       "      <td>0</td>\n",
       "      <td>326.885307</td>\n",
       "      <td>260.0</td>\n",
       "      <td>2.037096e+06</td>\n",
       "      <td>9.518198</td>\n",
       "      <td>2.029039e+06</td>\n",
       "      <td>1.988452e+06</td>\n",
       "      <td>21801.802283</td>\n",
       "      <td>375332.320166</td>\n",
       "      <td>9.511530</td>\n",
       "    </tr>\n",
       "    <tr>\n",
       "      <th>752</th>\n",
       "      <td>300.8</td>\n",
       "      <td>0</td>\n",
       "      <td>0</td>\n",
       "      <td>349.696050</td>\n",
       "      <td>260.0</td>\n",
       "      <td>2.029194e+06</td>\n",
       "      <td>9.511574</td>\n",
       "      <td>2.019670e+06</td>\n",
       "      <td>1.984212e+06</td>\n",
       "      <td>21771.464702</td>\n",
       "      <td>374734.452147</td>\n",
       "      <td>9.504476</td>\n",
       "    </tr>\n",
       "    <tr>\n",
       "      <th>753</th>\n",
       "      <td>301.2</td>\n",
       "      <td>0</td>\n",
       "      <td>0</td>\n",
       "      <td>12.488782</td>\n",
       "      <td>260.0</td>\n",
       "      <td>2.021031e+06</td>\n",
       "      <td>9.504523</td>\n",
       "      <td>2.009957e+06</td>\n",
       "      <td>1.979707e+06</td>\n",
       "      <td>21739.197108</td>\n",
       "      <td>374110.942739</td>\n",
       "      <td>9.496972</td>\n",
       "    </tr>\n",
       "    <tr>\n",
       "      <th>754</th>\n",
       "      <td>301.6</td>\n",
       "      <td>0</td>\n",
       "      <td>0</td>\n",
       "      <td>35.262408</td>\n",
       "      <td>260.0</td>\n",
       "      <td>2.012651e+06</td>\n",
       "      <td>9.497021</td>\n",
       "      <td>1.999945e+06</td>\n",
       "      <td>1.974927e+06</td>\n",
       "      <td>21704.895702</td>\n",
       "      <td>373444.963211</td>\n",
       "      <td>9.489011</td>\n",
       "    </tr>\n",
       "    <tr>\n",
       "      <th>755</th>\n",
       "      <td>302.0</td>\n",
       "      <td>0</td>\n",
       "      <td>0</td>\n",
       "      <td>58.015829</td>\n",
       "      <td>260.0</td>\n",
       "      <td>2.004154e+06</td>\n",
       "      <td>9.489064</td>\n",
       "      <td>1.989735e+06</td>\n",
       "      <td>1.969869e+06</td>\n",
       "      <td>21668.537031</td>\n",
       "      <td>372730.797031</td>\n",
       "      <td>9.480592</td>\n",
       "    </tr>\n",
       "  </tbody>\n",
       "</table>\n",
       "</div>"
      ],
      "text/plain": [
       "      time  turbine  pitch     azimuth  nacYaw   torqueRotor  \\\n",
       "751  300.4        0      0  326.885307   260.0  2.037096e+06   \n",
       "752  300.8        0      0  349.696050   260.0  2.029194e+06   \n",
       "753  301.2        0      0   12.488782   260.0  2.021031e+06   \n",
       "754  301.6        0      0   35.262408   260.0  2.012651e+06   \n",
       "755  302.0        0      0   58.015829   260.0  2.004154e+06   \n",
       "\n",
       "     rotSpeedFiltered    powerRotor  powerGenerator     torqueGen  \\\n",
       "751          9.518198  2.029039e+06    1.988452e+06  21801.802283   \n",
       "752          9.511574  2.019670e+06    1.984212e+06  21771.464702   \n",
       "753          9.504523  2.009957e+06    1.979707e+06  21739.197108   \n",
       "754          9.497021  1.999945e+06    1.974927e+06  21704.895702   \n",
       "755          9.489064  1.989735e+06    1.969869e+06  21668.537031   \n",
       "\n",
       "            thrust  rotSpeed  \n",
       "751  375332.320166  9.511530  \n",
       "752  374734.452147  9.504476  \n",
       "753  374110.942739  9.496972  \n",
       "754  373444.963211  9.489011  \n",
       "755  372730.797031  9.480592  "
      ]
     },
     "execution_count": 15,
     "metadata": {},
     "output_type": "execute_result"
    }
   ],
   "source": [
    "si.turbine_output.head()"
   ]
  },
  {
   "cell_type": "code",
   "execution_count": 22,
   "metadata": {},
   "outputs": [
    {
     "data": {
      "text/plain": [
       "array([0])"
      ]
     },
     "execution_count": 22,
     "metadata": {},
     "output_type": "execute_result"
    }
   ],
   "source": [
    "si.turbine_output.turbine.uniqueue()"
   ]
  },
  {
   "cell_type": "code",
   "execution_count": 16,
   "metadata": {},
   "outputs": [],
   "source": [
    "powers = si.get_time_power_t(0)"
   ]
  },
  {
   "cell_type": "code",
   "execution_count": 17,
   "metadata": {},
   "outputs": [],
   "source": [
    "ws_est = ws_estimator(powers)"
   ]
  },
  {
   "cell_type": "code",
   "execution_count": 18,
   "metadata": {},
   "outputs": [
    {
     "data": {
      "text/plain": [
       "[<matplotlib.lines.Line2D at 0x11d617550>]"
      ]
     },
     "execution_count": 18,
     "metadata": {},
     "output_type": "execute_result"
    },
    {
     "data": {
      "image/png": "[encoded data removed]",
      "text/plain": [
       "<Figure size 432x288 with 1 Axes>"
      ]
     },
     "metadata": {
      "needs_background": "light"
     },
     "output_type": "display_data"
    }
   ],
   "source": [
    "plt.plot(ws_est)"
   ]
  },
  {
   "cell_type": "code",
   "execution_count": 19,
   "metadata": {},
   "outputs": [
    {
     "data": {
      "text/plain": [
       "7.624691007465836"
      ]
     },
     "execution_count": 19,
     "metadata": {},
     "output_type": "execute_result"
    }
   ],
   "source": [
    "np.mean(ws_est)"
   ]
  },
  {
   "cell_type": "code",
   "execution_count": 20,
   "metadata": {},
   "outputs": [
    {
     "data": {
      "text/plain": [
       "0.4166054016894502"
      ]
     },
     "execution_count": 20,
     "metadata": {},
     "output_type": "execute_result"
    }
   ],
   "source": [
    "np.std(ws_est)"
   ]
  },
  {
   "cell_type": "code",
   "execution_count": 21,
   "metadata": {},
   "outputs": [
    {
     "data": {
      "text/plain": [
       "5.463898816116279"
      ]
     },
     "execution_count": 21,
     "metadata": {},
     "output_type": "execute_result"
    }
   ],
   "source": [
    "100. * np.std(ws_est) / np.mean(ws_est)"
   ]
  },
  {
   "cell_type": "markdown",
   "metadata": {},
   "source": [
    "Based on Duc, T., Coupiac, O., Girard, N., Giebel, G., & Göçmen, T. (2018). Local turbulence parameterization improves the Jensen wake model and its implementation for power optimization of an operating wind farm. Wind Energy Science Discussions, (October), 1–23. https://doi.org/10.5194/wes-2018-62"
   ]
  },
  {
   "cell_type": "markdown",
   "metadata": {},
   "source": [
    "(See Fig 4)"
   ]
  },
  {
   "cell_type": "markdown",
   "metadata": {},
   "source": [
    "Might expect TI calculated to be half what would be measured by nacelle anemonoter so could call effective TI twice this"
   ]
  },
  {
   "cell_type": "markdown",
   "metadata": {},
   "source": [
    "## Proposed estimation function"
   ]
  },
  {
   "cell_type": "code",
   "execution_count": 67,
   "metadata": {},
   "outputs": [],
   "source": [
    "def ti_calc_nrel_5mw(pow_W):\n",
    "    ws_est = ws_estimator(pow_W)\n",
    "    return 2 * 100. * np.std(ws_est) / np.mean(ws_est)"
   ]
  },
  {
   "cell_type": "code",
   "execution_count": 68,
   "metadata": {},
   "outputs": [
    {
     "data": {
      "text/plain": [
       "10.927797632232558"
      ]
     },
     "execution_count": 68,
     "metadata": {},
     "output_type": "execute_result"
    }
   ],
   "source": [
    "ti_calc_nrel_5mw(powers)"
   ]
  }
 ],
 "metadata": {
  "kernelspec": {
   "display_name": "Python 3.7.6 64-bit ('floris': conda)",
   "language": "python",
   "name": "python37664bitfloriscondabf631bda36b5440ea8c8f9e7c7e53550"
  },
  "language_info": {
   "codemirror_mode": {
    "name": "ipython",
    "version": 3
   },
   "file_extension": ".py",
   "mimetype": "text/x-python",
   "name": "python",
   "nbconvert_exporter": "python",
   "pygments_lexer": "ipython3",
   "version": "3.7.6"
  }
 },
 "nbformat": 4,
 "nbformat_minor": 4
}
