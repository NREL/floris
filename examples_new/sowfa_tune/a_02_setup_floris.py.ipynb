{
 "cells": [
  {
   "cell_type": "markdown",
   "metadata": {},
   "source": [
    "# Setup the floris models"
   ]
  },
  {
   "cell_type": "markdown",
   "metadata": {},
   "source": [
    "Setup a dictionary of FLORIS models to be evaluated:\n",
    "    \n",
    "Gauss Legacy: Set up to match previous implementations of FLORIS\n",
    "Gauss: Set up in new configuration, but with matching tunings\n",
    "Gauss Tune: Will be structurally same as gauss, but with parameters re-tuned"
   ]
  },
  {
   "cell_type": "code",
   "execution_count": 6,
   "metadata": {},
   "outputs": [],
   "source": [
    "import matplotlib.pyplot as plt\n",
    "import floris.tools as wfct\n",
    "import numpy as np\n",
    "import pandas as pd\n",
    "import copy\n",
    "import seaborn as sns\n",
    "import pickle"
   ]
  },
  {
   "cell_type": "markdown",
   "metadata": {},
   "source": [
    "## Setup FLORIS models"
   ]
  },
  {
   "cell_type": "code",
   "execution_count": 7,
   "metadata": {},
   "outputs": [],
   "source": [
    "fi_dict = dict()"
   ]
  },
  {
   "cell_type": "code",
   "execution_count": 8,
   "metadata": {},
   "outputs": [
    {
     "name": "stdout",
     "output_type": "stream",
     "text": [
      "<\n",
      "<=\n",
      "<\n"
     ]
    }
   ],
   "source": [
    "# Gauss Class -- Current Default except set the points to diamond\n",
    "fi_g = wfct.floris_interface.FlorisInterface(\"../example_input.json\")\n",
    "fi_g.floris.farm.set_wake_model('gauss')\n",
    "fi_g.set_use_points_on_perimeter(True)\n",
    "# fi_g.set_gch(True)\n",
    "fi_dict['g'] = (fi_g, 'r', 'gauss')\n",
    "\n",
    "\n",
    "# # Gauss_Legacy Class with GCH disabled and deflection multiplier = 1.2\n",
    "# fi_gl = wfct.floris_interface.FlorisInterface(\"../example_input.json\")\n",
    "# fi_gl.floris.farm.set_wake_model('gauss_legacy')\n",
    "# fi_gl.set_gch(False) # Disable GCH\n",
    "# fi_gl.floris.farm.wake._deflection_model.deflection_multiplier = 1.2 # Deflection multiplier to 1.2\n",
    "# fi_dict['gl'] = (fi_gl, 'b', 'gauss_legacy')\n",
    "\n",
    "# Gauss_Legacy Class with GCH disabled and deflection multiplier = 1.2\n",
    "# Use the defined JSON\n",
    "fi_gl = wfct.floris_interface.FlorisInterface(\"../example_input_gauss_legacy.json\")\n",
    "fi_gl.floris.farm.wake._deflection_model.dm = 1.2 # Deflection multiplier to 1.2\n",
    "fi_dict['gl'] = (fi_gl, 'b', 'gauss_legacy')\n",
    "\n"
   ]
  },
  {
   "cell_type": "code",
   "execution_count": 9,
   "metadata": {},
   "outputs": [],
   "source": [
    "# Save dict\n",
    "pickle.dump( fi_dict, open( \"floris_models.p\", \"wb\" ) )"
   ]
  },
  {
   "cell_type": "code",
   "execution_count": null,
   "metadata": {},
   "outputs": [],
   "source": []
  }
 ],
 "metadata": {
  "kernelspec": {
   "display_name": "Python 3.7.6 64-bit ('floris': conda)",
   "language": "python",
   "name": "python37664bitfloriscondabf631bda36b5440ea8c8f9e7c7e53550"
  },
  "language_info": {
   "codemirror_mode": {
    "name": "ipython",
    "version": 3
   },
   "file_extension": ".py",
   "mimetype": "text/x-python",
   "name": "python",
   "nbconvert_exporter": "python",
   "pygments_lexer": "ipython3",
   "version": "3.7.6"
  }
 },
 "nbformat": 4,
 "nbformat_minor": 4
}
