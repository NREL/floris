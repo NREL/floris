{
 "cells": [
  {
   "cell_type": "markdown",
   "metadata": {},
   "source": [
    "# Assign Free Stream and Turbulence"
   ]
  },
  {
   "cell_type": "markdown",
   "metadata": {},
   "source": [
    "For each FLORIS model and each saved SOWFA simulation, determine the best free stream wind as that which minimizes the error relative to the upstream-most turbines power production\n",
    "\n",
    "Note the subtle difference is mostly connected to # of points on rotor\n",
    "\n",
    "Then use the previously defined TI function to determine an ambient TI using the power method applied to upstream-most turbines.  Note that the new Gauss versions (Gauss and Gauss_Tune) will use this, while Gauss_Legacy will use the fit values"
   ]
  },
  {
   "cell_type": "code",
   "execution_count": 1,
   "metadata": {},
   "outputs": [],
   "source": [
    "import matplotlib.pyplot as plt\n",
    "import floris.tools as wfct\n",
    "import numpy as np\n",
    "import pandas as pd\n",
    "import copy\n",
    "import seaborn as sns\n",
    "import pickle\n",
    "from scipy.optimize import minimize"
   ]
  },
  {
   "cell_type": "markdown",
   "metadata": {},
   "source": [
    "## Load FLORIS models and SOWFA DATA"
   ]
  },
  {
   "cell_type": "code",
   "execution_count": 2,
   "metadata": {},
   "outputs": [],
   "source": [
    "df = pickle.load( open( \"sowfa_03.p\", \"rb\" ) )\n",
    "fi_dict = pickle.load( open( \"floris_models.p\", \"rb\" ) )"
   ]
  },
  {
   "cell_type": "markdown",
   "metadata": {},
   "source": [
    "## List the unique precursors"
   ]
  },
  {
   "cell_type": "code",
   "execution_count": 3,
   "metadata": {},
   "outputs": [],
   "source": [
    "def power_error(ws,sowfa_power, upstream_indicies, fi):\n",
    "    fi.reinitialize_flow_field(wind_speed=[ws])\n",
    "    fi.calculate_wake()\n",
    "    floris_power = np.mean(np.array(fi.get_turbine_power())[upstream_indicies]) / 1000.\n",
    "    return (sowfa_power - floris_power)**2"
   ]
  },
  {
   "cell_type": "code",
   "execution_count": 4,
   "metadata": {},
   "outputs": [],
   "source": [
    "## Work out free-stream wind speed for each fi\n",
    "\n",
    "for floris_key in fi_dict:\n",
    "    (fi, floris_color, floris_label) = fi_dict[floris_key]\n",
    "\n",
    "    free_stream_ws = []\n",
    "    for i, row in df.iterrows():\n",
    "\n",
    "        # Match the layout\n",
    "        fi.reinitialize_flow_field(layout_array=[row.layout_x,row.layout_y])\n",
    "\n",
    "        # Grab the upstream turbine\n",
    "        wake_table = row.wake_table\n",
    "        upstream_indicies = np.where(wake_table==0)[0]\n",
    "        sowfa_power = np.mean(row['power'][upstream_indicies])\n",
    "        # upstream_columns = ['sowfa_power_%d' % upstream_idx for upstream_idx in upstream_indicies]\n",
    "        # sowfa_power = np.mean(row[upstream_columns])\n",
    "\n",
    "        # Find the min error wind speed and assign in\n",
    "        result = minimize(power_error, args=(sowfa_power, upstream_indicies, fi),x0=8.0)\n",
    "        free_stream_ws.append(result.x[0])\n",
    "\n",
    "    # Assign into the dataframe\n",
    "    freestream_name = 'freestream_' + floris_label\n",
    "    df[freestream_name] = free_stream_ws\n",
    "        "
   ]
  },
  {
   "cell_type": "code",
   "execution_count": 5,
   "metadata": {},
   "outputs": [],
   "source": [
    "## Assign free-stream TI directly without referecnce to floris model\n",
    "free_stream_ti = []\n",
    "for i, row in df.iterrows():\n",
    "\n",
    "    # Grab the upstream turbine\n",
    "    wake_table = row.wake_table\n",
    "    upstream_indicies = np.where(wake_table==0)[0]\n",
    "    ti_mean = np.mean(row['ti'][upstream_indicies])\n",
    "    \n",
    "    free_stream_ti.append(ti_mean)\n",
    "\n",
    "# Assign into the dataframe\n",
    "freestream_name = 'freestream_ti'\n",
    "df[freestream_name] = free_stream_ti"
   ]
  },
  {
   "cell_type": "code",
   "execution_count": 6,
   "metadata": {},
   "outputs": [
    {
     "data": {
      "text/html": [
       "<div>\n",
       "<style scoped>\n",
       "    .dataframe tbody tr th:only-of-type {\n",
       "        vertical-align: middle;\n",
       "    }\n",
       "\n",
       "    .dataframe tbody tr th {\n",
       "        vertical-align: top;\n",
       "    }\n",
       "\n",
       "    .dataframe thead th {\n",
       "        text-align: right;\n",
       "    }\n",
       "</style>\n",
       "<table border=\"1\" class=\"dataframe\">\n",
       "  <thead>\n",
       "    <tr style=\"text-align: right;\">\n",
       "      <th></th>\n",
       "      <th>Precursor</th>\n",
       "      <th>case_name</th>\n",
       "      <th>floris_TI</th>\n",
       "      <th>floris_U0</th>\n",
       "      <th>layout_x</th>\n",
       "      <th>layout_y</th>\n",
       "      <th>num_turbines</th>\n",
       "      <th>path</th>\n",
       "      <th>sim_length</th>\n",
       "      <th>sowfa_TI</th>\n",
       "      <th>sowfa_U0</th>\n",
       "      <th>yaw</th>\n",
       "      <th>power</th>\n",
       "      <th>ti</th>\n",
       "      <th>wake_table</th>\n",
       "      <th>freestream_gauss</th>\n",
       "      <th>freestream_gauss_legacy</th>\n",
       "      <th>freestream_ti</th>\n",
       "    </tr>\n",
       "    <tr>\n",
       "      <th>casename</th>\n",
       "      <th></th>\n",
       "      <th></th>\n",
       "      <th></th>\n",
       "      <th></th>\n",
       "      <th></th>\n",
       "      <th></th>\n",
       "      <th></th>\n",
       "      <th></th>\n",
       "      <th></th>\n",
       "      <th></th>\n",
       "      <th></th>\n",
       "      <th></th>\n",
       "      <th></th>\n",
       "      <th></th>\n",
       "      <th></th>\n",
       "      <th></th>\n",
       "      <th></th>\n",
       "      <th></th>\n",
       "    </tr>\n",
       "  </thead>\n",
       "  <tbody>\n",
       "    <tr>\n",
       "      <th>c_0</th>\n",
       "      <td>neutral_5kmx2kmx1km\\n</td>\n",
       "      <td>c_08_highTI_D05_R-1_y-20</td>\n",
       "      <td>0.09</td>\n",
       "      <td>8.38</td>\n",
       "      <td>(1000.0, 1630.0)</td>\n",
       "      <td>(1000.0, 937.0)</td>\n",
       "      <td>2</td>\n",
       "      <td>sowfa_library (Paul.fleming@nrel.gov)/full_run...</td>\n",
       "      <td>2000.0</td>\n",
       "      <td>0.1</td>\n",
       "      <td>8.0</td>\n",
       "      <td>[-20.0, 0.0]</td>\n",
       "      <td>[1697.0, 1445.7]</td>\n",
       "      <td>[0.09703534975568191, 0.16729992046512362]</td>\n",
       "      <td>[0, 1]</td>\n",
       "      <td>8.031730</td>\n",
       "      <td>8.010499</td>\n",
       "      <td>0.097035</td>\n",
       "    </tr>\n",
       "    <tr>\n",
       "      <th>c_1</th>\n",
       "      <td>neutral_5kmx2kmx1km\\n</td>\n",
       "      <td>c_08_highTI_D05_R-1_y00</td>\n",
       "      <td>0.09</td>\n",
       "      <td>8.38</td>\n",
       "      <td>(1000.0, 1630.0)</td>\n",
       "      <td>(1000.0, 937.0)</td>\n",
       "      <td>2</td>\n",
       "      <td>sowfa_library (Paul.fleming@nrel.gov)/full_run...</td>\n",
       "      <td>2000.0</td>\n",
       "      <td>0.1</td>\n",
       "      <td>8.0</td>\n",
       "      <td>[0.0, 0.0]</td>\n",
       "      <td>[1937.5, 1072.3]</td>\n",
       "      <td>[0.09297835821594881, 0.17988567028143654]</td>\n",
       "      <td>[0, 1]</td>\n",
       "      <td>8.394857</td>\n",
       "      <td>8.372666</td>\n",
       "      <td>0.092978</td>\n",
       "    </tr>\n",
       "    <tr>\n",
       "      <th>c_2</th>\n",
       "      <td>neutral_5kmx2kmx1km\\n</td>\n",
       "      <td>c_08_highTI_D05_R-1_y20</td>\n",
       "      <td>0.09</td>\n",
       "      <td>8.38</td>\n",
       "      <td>(1000.0, 1630.0)</td>\n",
       "      <td>(1000.0, 937.0)</td>\n",
       "      <td>2</td>\n",
       "      <td>sowfa_library (Paul.fleming@nrel.gov)/full_run...</td>\n",
       "      <td>2000.0</td>\n",
       "      <td>0.1</td>\n",
       "      <td>8.0</td>\n",
       "      <td>[20.0, 0.0]</td>\n",
       "      <td>[1688.3, 966.6]</td>\n",
       "      <td>[0.0853431860270954, 0.1327437170885774]</td>\n",
       "      <td>[0, 1]</td>\n",
       "      <td>8.017935</td>\n",
       "      <td>7.996741</td>\n",
       "      <td>0.085343</td>\n",
       "    </tr>\n",
       "    <tr>\n",
       "      <th>c_3</th>\n",
       "      <td>neutral_5kmx2kmx1km\\n</td>\n",
       "      <td>c_08_highTI_D05_R00_y-20</td>\n",
       "      <td>0.09</td>\n",
       "      <td>8.38</td>\n",
       "      <td>(1000.0, 1630.0)</td>\n",
       "      <td>(1000.0, 1000.0)</td>\n",
       "      <td>2</td>\n",
       "      <td>sowfa_library (Paul.fleming@nrel.gov)/full_run...</td>\n",
       "      <td>2000.0</td>\n",
       "      <td>0.1</td>\n",
       "      <td>8.0</td>\n",
       "      <td>[-20.0, 0.0]</td>\n",
       "      <td>[1699.3, 907.2]</td>\n",
       "      <td>[0.09688156249065837, 0.12228484151676836]</td>\n",
       "      <td>[0, 1]</td>\n",
       "      <td>8.035369</td>\n",
       "      <td>8.014128</td>\n",
       "      <td>0.096882</td>\n",
       "    </tr>\n",
       "    <tr>\n",
       "      <th>c_4</th>\n",
       "      <td>neutral_5kmx2kmx1km\\n</td>\n",
       "      <td>c_08_highTI_D05_R00_y00</td>\n",
       "      <td>0.09</td>\n",
       "      <td>8.38</td>\n",
       "      <td>(1000.0, 1630.0)</td>\n",
       "      <td>(1000.0, 1000.0)</td>\n",
       "      <td>2</td>\n",
       "      <td>sowfa_library (Paul.fleming@nrel.gov)/full_run...</td>\n",
       "      <td>2000.0</td>\n",
       "      <td>0.1</td>\n",
       "      <td>8.0</td>\n",
       "      <td>[0.0, 0.0]</td>\n",
       "      <td>[1938.0, 752.7]</td>\n",
       "      <td>[0.09285372321562335, 0.10368956548356832]</td>\n",
       "      <td>[0, 1]</td>\n",
       "      <td>8.395580</td>\n",
       "      <td>8.373387</td>\n",
       "      <td>0.092854</td>\n",
       "    </tr>\n",
       "  </tbody>\n",
       "</table>\n",
       "</div>"
      ],
      "text/plain": [
       "                      Precursor                 case_name  floris_TI  \\\n",
       "casename                                                               \n",
       "c_0       neutral_5kmx2kmx1km\\n  c_08_highTI_D05_R-1_y-20       0.09   \n",
       "c_1       neutral_5kmx2kmx1km\\n   c_08_highTI_D05_R-1_y00       0.09   \n",
       "c_2       neutral_5kmx2kmx1km\\n   c_08_highTI_D05_R-1_y20       0.09   \n",
       "c_3       neutral_5kmx2kmx1km\\n  c_08_highTI_D05_R00_y-20       0.09   \n",
       "c_4       neutral_5kmx2kmx1km\\n   c_08_highTI_D05_R00_y00       0.09   \n",
       "\n",
       "          floris_U0          layout_x          layout_y  num_turbines  \\\n",
       "casename                                                                \n",
       "c_0            8.38  (1000.0, 1630.0)   (1000.0, 937.0)             2   \n",
       "c_1            8.38  (1000.0, 1630.0)   (1000.0, 937.0)             2   \n",
       "c_2            8.38  (1000.0, 1630.0)   (1000.0, 937.0)             2   \n",
       "c_3            8.38  (1000.0, 1630.0)  (1000.0, 1000.0)             2   \n",
       "c_4            8.38  (1000.0, 1630.0)  (1000.0, 1000.0)             2   \n",
       "\n",
       "                                                       path  sim_length  \\\n",
       "casename                                                                  \n",
       "c_0       sowfa_library (Paul.fleming@nrel.gov)/full_run...      2000.0   \n",
       "c_1       sowfa_library (Paul.fleming@nrel.gov)/full_run...      2000.0   \n",
       "c_2       sowfa_library (Paul.fleming@nrel.gov)/full_run...      2000.0   \n",
       "c_3       sowfa_library (Paul.fleming@nrel.gov)/full_run...      2000.0   \n",
       "c_4       sowfa_library (Paul.fleming@nrel.gov)/full_run...      2000.0   \n",
       "\n",
       "          sowfa_TI  sowfa_U0           yaw             power  \\\n",
       "casename                                                       \n",
       "c_0            0.1       8.0  [-20.0, 0.0]  [1697.0, 1445.7]   \n",
       "c_1            0.1       8.0    [0.0, 0.0]  [1937.5, 1072.3]   \n",
       "c_2            0.1       8.0   [20.0, 0.0]   [1688.3, 966.6]   \n",
       "c_3            0.1       8.0  [-20.0, 0.0]   [1699.3, 907.2]   \n",
       "c_4            0.1       8.0    [0.0, 0.0]   [1938.0, 752.7]   \n",
       "\n",
       "                                                  ti wake_table  \\\n",
       "casename                                                          \n",
       "c_0       [0.09703534975568191, 0.16729992046512362]     [0, 1]   \n",
       "c_1       [0.09297835821594881, 0.17988567028143654]     [0, 1]   \n",
       "c_2         [0.0853431860270954, 0.1327437170885774]     [0, 1]   \n",
       "c_3       [0.09688156249065837, 0.12228484151676836]     [0, 1]   \n",
       "c_4       [0.09285372321562335, 0.10368956548356832]     [0, 1]   \n",
       "\n",
       "          freestream_gauss  freestream_gauss_legacy  freestream_ti  \n",
       "casename                                                            \n",
       "c_0               8.031730                 8.010499       0.097035  \n",
       "c_1               8.394857                 8.372666       0.092978  \n",
       "c_2               8.017935                 7.996741       0.085343  \n",
       "c_3               8.035369                 8.014128       0.096882  \n",
       "c_4               8.395580                 8.373387       0.092854  "
      ]
     },
     "execution_count": 6,
     "metadata": {},
     "output_type": "execute_result"
    }
   ],
   "source": [
    "df.head()"
   ]
  },
  {
   "cell_type": "code",
   "execution_count": 7,
   "metadata": {},
   "outputs": [],
   "source": [
    "# Save the updated dataframe\n",
    "pickle.dump( df, open( \"sowfa_04.p\", \"wb\" ) )"
   ]
  },
  {
   "cell_type": "code",
   "execution_count": 64,
   "metadata": {},
   "outputs": [
    {
     "data": {
      "text/plain": [
       "<matplotlib.axes._subplots.AxesSubplot at 0x11ef13790>"
      ]
     },
     "execution_count": 64,
     "metadata": {},
     "output_type": "execute_result"
    },
    {
     "data": {
      "image/png": "[encoded data removed]",
      "text/plain": [
       "<Figure size 432x288 with 1 Axes>"
      ]
     },
     "metadata": {
      "needs_background": "light"
     },
     "output_type": "display_data"
    }
   ],
   "source": [
    "# Compare the distributions\n",
    "df['difference'] = df.freestream_gauss - df.freestream_gauss_legacy\n",
    "df.difference.hist(bins=50)"
   ]
  },
  {
   "cell_type": "code",
   "execution_count": 12,
   "metadata": {},
   "outputs": [
    {
     "data": {
      "text/plain": [
       "<matplotlib.axes._subplots.AxesSubplot at 0x11854ad90>"
      ]
     },
     "execution_count": 12,
     "metadata": {},
     "output_type": "execute_result"
    },
    {
     "data": {
      "image/png": "[encoded data removed]",
      "text/plain": [
       "<Figure size 432x288 with 1 Axes>"
      ]
     },
     "metadata": {
      "needs_background": "light"
     },
     "output_type": "display_data"
    }
   ],
   "source": [
    "sns.boxplot(data=df,x='freestream_ti',y='Precursor')"
   ]
  }
 ],
 "metadata": {
  "kernelspec": {
   "display_name": "Python 3.7.6 64-bit ('floris': conda)",
   "language": "python",
   "name": "python37664bitfloriscondabf631bda36b5440ea8c8f9e7c7e53550"
  },
  "language_info": {
   "codemirror_mode": {
    "name": "ipython",
    "version": 3
   },
   "file_extension": ".py",
   "mimetype": "text/x-python",
   "name": "python",
   "nbconvert_exporter": "python",
   "pygments_lexer": "ipython3",
   "version": "3.7.6"
  }
 },
 "nbformat": 4,
 "nbformat_minor": 4
}
