{
 "cells": [
  {
   "cell_type": "markdown",
   "id": "86e53920",
   "metadata": {},
   "source": [
    "# Getting Started with FLORIS V3"
   ]
  },
  {
   "cell_type": "markdown",
   "id": "bb74834b",
   "metadata": {},
   "source": [
    "This notebook is designed to step through the basic operations of FLORIS V3 and highlight what is new/changed from FLORIS V2.4"
   ]
  },
  {
   "cell_type": "code",
   "execution_count": 41,
   "id": "a700d720",
   "metadata": {},
   "outputs": [],
   "source": [
    "import copy\n",
    "\n",
    "import matplotlib.pyplot as plt\n",
    "import numpy as np\n",
    "\n",
    "from floris.tools import FlorisInterface\n",
    "from floris.tools.visualization import visualize_cut_plane"
   ]
  },
  {
   "cell_type": "markdown",
   "id": "699c51dd",
   "metadata": {},
   "source": [
    "## Input file"
   ]
  },
  {
   "cell_type": "markdown",
   "id": "f1099a88",
   "metadata": {},
   "source": [
    "As in V2, a floris interface object is the main point of interaction with FLORIS.\n",
    "\n",
    "Something that is new is that the input file can be either a JSON or YAML file"
   ]
  },
  {
   "cell_type": "code",
   "execution_count": 2,
   "id": "602f311c",
   "metadata": {},
   "outputs": [],
   "source": [
    "# Initialize FLORIS with the given input file via FlorisInterface.\n",
    "# For basic usage, FlorisInterface provides a simplified and expressive\n",
    "# entry point to the simulation routines.\n",
    "fi = FlorisInterface(\"inputs/gch.yaml\")"
   ]
  },
  {
   "cell_type": "markdown",
   "id": "e1eaeb53",
   "metadata": {},
   "source": [
    "## Reinitialize function"
   ]
  },
  {
   "cell_type": "markdown",
   "id": "64226134",
   "metadata": {},
   "source": [
    "Similarly to V2, changes to the background flow and farm are put in place via a reinitialize function.  Another way to think of this function is that it changes the value of variables specified in the intial yaml/json file"
   ]
  },
  {
   "cell_type": "markdown",
   "id": "264156e3",
   "metadata": {},
   "source": [
    "#### Change farm layout"
   ]
  },
  {
   "cell_type": "code",
   "execution_count": 58,
   "id": "d040b810",
   "metadata": {},
   "outputs": [],
   "source": [
    "# Design a 2x2 farm, units are m\n",
    "X = np.array([0, 0, 800, 800])\n",
    "Y = np.array([0, 400, 0, 400])\n",
    "fi.reinitialize(layout=[X,Y])"
   ]
  },
  {
   "cell_type": "markdown",
   "id": "2bf73f42",
   "metadata": {},
   "source": [
    "#### Changing the wind direction and speed"
   ]
  },
  {
   "cell_type": "markdown",
   "id": "63f45e11",
   "metadata": {},
   "source": [
    "This aspect is one of the major changes from V2 to V3.  \n",
    "\n",
    "Previously, wind speeds and directions descrobed one condition.  Now they can describe one or multiple conditions, including an entire wind rose at once.  This enables the underlying vectorization which allows the computations to be handled at once, rather than wrapped in a loop.\n",
    "\n",
    "Some aspects of this specification are still under consideration, but in current form, unless explicitly specified to represent a time series, a vector of wind directions and wind speeds will be \"expanded\" such that each combination of wind direction and wind speed is computed."
   ]
  },
  {
   "cell_type": "code",
   "execution_count": 59,
   "id": "6f9d834a",
   "metadata": {},
   "outputs": [],
   "source": [
    "# One wind direction and one speed\n",
    "fi.reinitialize(wind_directions=[270], wind_speeds=[8.])\n",
    "\n",
    "# Two wind directions and one speed (Two combinations)s\n",
    "fi.reinitialize(wind_directions=[270, 280], wind_speeds=[8.])\n",
    "\n",
    "# Two wind directions and two speeds (Four combinations)\n",
    "fi.reinitialize(wind_directions=[270, 280], wind_speeds=[8., 9.])"
   ]
  },
  {
   "cell_type": "markdown",
   "id": "4aff228a",
   "metadata": {},
   "source": [
    "## Calculate Wake"
   ]
  },
  {
   "cell_type": "markdown",
   "id": "f40efe20",
   "metadata": {},
   "source": [
    "Similar again to V2, there is a calculate_wake function.  In V3 this will calculate the velocities for every specified grid point, and for every specified wind speed and wind direction.  If not doing visualization, grid points will be on the turbine rotors"
   ]
  },
  {
   "cell_type": "code",
   "execution_count": 60,
   "id": "e3bf1698",
   "metadata": {},
   "outputs": [],
   "source": [
    "fi.calculate_wake()"
   ]
  },
  {
   "cell_type": "markdown",
   "id": "8ab273db",
   "metadata": {},
   "source": [
    "#### Applying yaw angles"
   ]
  },
  {
   "cell_type": "markdown",
   "id": "89ea9b19",
   "metadata": {},
   "source": [
    "Yaw angles are applied to turbines in the calculate wake function.  Some important things to note when using the new framwork\n",
    "\n",
    "**yaw_angles is a matrix** -- You must provide yaw angles in a matrix with \n",
    "* wind directions\n",
    "* wind speeds\n",
    "* turbines\n",
    "\n",
    "**unlike variables passed in reinitialize, yaw angles applied to calculate wake are not remembered between calls**"
   ]
  },
  {
   "cell_type": "code",
   "execution_count": 61,
   "id": "be78e20d",
   "metadata": {},
   "outputs": [
    {
     "data": {
      "text/plain": [
       "array([[[0., 0., 0., 0.],\n",
       "        [0., 0., 0., 0.]],\n",
       "\n",
       "       [[0., 0., 0., 0.],\n",
       "        [0., 0., 0., 0.]]])"
      ]
     },
     "execution_count": 61,
     "metadata": {},
     "output_type": "execute_result"
    }
   ],
   "source": [
    "# Matrix of zero yaw angles\n",
    "num_wd = 2\n",
    "num_ws = 2\n",
    "num_turbine = 4\n",
    "yaw_angles_zero = np.zeros([num_wd, num_ws, num_turbine])\n",
    "fi.calculate_wake(yaw_angles = yaw_angles_zero)\n",
    "yaw_angles_zero"
   ]
  },
  {
   "cell_type": "code",
   "execution_count": 62,
   "id": "0f041620",
   "metadata": {},
   "outputs": [
    {
     "data": {
      "text/plain": [
       "array([[[25., 25.,  0.,  0.],\n",
       "        [25., 25.,  0.,  0.]],\n",
       "\n",
       "       [[25., 25.,  0.,  0.],\n",
       "        [25., 25.,  0.,  0.]]])"
      ]
     },
     "execution_count": 62,
     "metadata": {},
     "output_type": "execute_result"
    }
   ],
   "source": [
    "# Yaw the front row for all wind directions and all wind speeds\n",
    "yaw_angles_yaw_front = np.zeros([num_wd, num_ws, num_turbine])\n",
    "yaw_angles_yaw_front[:,:,:2] = 25\n",
    "fi.calculate_wake(yaw_angles = yaw_angles_yaw_front)\n",
    "yaw_angles_yaw_front"
   ]
  },
  {
   "cell_type": "markdown",
   "id": "e11352e8",
   "metadata": {},
   "source": [
    "## Getting turbine power"
   ]
  },
  {
   "cell_type": "markdown",
   "id": "bf4b6ac8",
   "metadata": {},
   "source": [
    "The calculate wake function computes the velocity at each grid point on each turbine.  To then compute the power, you call the get_turbine_power() function"
   ]
  },
  {
   "cell_type": "code",
   "execution_count": 63,
   "id": "6054265f",
   "metadata": {},
   "outputs": [],
   "source": [
    "# Aligned\n",
    "fi.calculate_wake(yaw_angles = yaw_angles_zero)\n",
    "powers_aligned = fi.get_turbine_powers()/1000.\n",
    "\n",
    "# Yawed\n",
    "fi.calculate_wake(yaw_angles = yaw_angles_yaw_front)\n",
    "powers_yawed = fi.get_turbine_powers()/1000."
   ]
  },
  {
   "cell_type": "markdown",
   "id": "5a11cdee",
   "metadata": {},
   "source": [
    "The powers are returned in a matrix of the same dimensions as the yaw_angles matrix and by default in units W (the division by 1000 converting to kW in the above example code)"
   ]
  },
  {
   "cell_type": "code",
   "execution_count": 64,
   "id": "7de24fe5",
   "metadata": {},
   "outputs": [
    {
     "data": {
      "text/plain": [
       "array([[[1691.32648289, 1691.32648289,  592.65288889,  592.97819946],\n",
       "        [2407.84258855, 2407.84258855,  861.30598083,  861.73203268]],\n",
       "\n",
       "       [[1691.32648289, 1691.32648289, 1629.75508349, 1629.75457548],\n",
       "        [2407.84258855, 2407.84258855, 2319.53233514, 2319.53161349]]])"
      ]
     },
     "execution_count": 64,
     "metadata": {},
     "output_type": "execute_result"
    }
   ],
   "source": [
    "powers_aligned"
   ]
  },
  {
   "cell_type": "code",
   "execution_count": 65,
   "id": "e2606e36",
   "metadata": {},
   "outputs": [
    {
     "name": "stdout",
     "output_type": "stream",
     "text": [
      "Power of turbine 0 across wd/ws conditions for aligned case\n",
      "[[1691.32648289 2407.84258855]\n",
      " [1691.32648289 2407.84258855]]\n",
      "Power of all turbines when wind direction = 280 and wind speed = 9\n",
      "[2407.84258855 2407.84258855 2319.53233514 2319.53161349]\n"
     ]
    }
   ],
   "source": [
    "# Can therefore use normal slice operations to get specific powers\n",
    "print('Power of turbine 0 across wd/ws conditions for aligned case')\n",
    "print(powers_aligned[:,:,0])\n",
    "\n",
    "print('Power of all turbines when wind direction = 280 and wind speed = 9')\n",
    "print(powers_aligned[1,1,:])"
   ]
  },
  {
   "cell_type": "code",
   "execution_count": 66,
   "id": "d0ead739",
   "metadata": {},
   "outputs": [
    {
     "name": "stdout",
     "output_type": "stream",
     "text": [
      "Farm power across wind directions and speeds\n",
      "[[4568.28405413 6538.72319062]\n",
      " [6642.16262475 9454.74912574]]\n",
      "[[4568.28405413 6538.72319062]\n",
      " [6642.16262475 9454.74912574]]\n"
     ]
    }
   ],
   "source": [
    "# Can also use sum operations across dimensions\n",
    "\n",
    "farm_power_aligned = np.sum(powers_aligned,2) # Some over turbine dimension\n",
    "farm_power_yawed = np.sum(powers_yawed,2) # Some over turbine dimension\n",
    "\n",
    "print('Farm power across wind directions and speeds')\n",
    "print(farm_power_aligned)\n",
    "\n",
    "# This specific matrix could have been obtained via the get_farm_power function\n",
    "fi.calculate_wake(yaw_angles = yaw_angles_zero)\n",
    "print(fi.get_farm_power()/1000.)"
   ]
  },
  {
   "cell_type": "markdown",
   "id": "99b7465c",
   "metadata": {},
   "source": [
    "## Visualization"
   ]
  },
  {
   "cell_type": "markdown",
   "id": "cd938402",
   "metadata": {},
   "source": [
    "Tools for visualizing the flow are similar to how they operated in V3 however there are important changes\n",
    "\n",
    "First, because yaw angles are no longer remembered from previous calculate wake calls, it is important to pass in the yaw angles to the visualization function itself\n",
    "\n",
    "Second, because to make a visualization of flow on a horizontal plane, a new grid has to be set up, but since this changes the gridding of the farm, future calls to calculate_wake() will be on this new grid.  It is therefore recommend that visualizations be performed on copies of the fi object called fi_viz or similar\n",
    "\n",
    "Finally, visualization does not accept multiple wind directions and wind speeds it is important to reinitialize if the original was using arrays of wind speeds and directions"
   ]
  },
  {
   "cell_type": "code",
   "execution_count": 75,
   "id": "8bb179ff",
   "metadata": {},
   "outputs": [],
   "source": [
    "# Make a copy of fi so as not to impact the grid of the original as this can lead to confusion\n",
    "fi_vis = copy.deepcopy(fi)\n",
    "\n",
    "# Choose one wind direction and one wind speed\n",
    "fi_vis.reinitialize(wind_directions = [280.], wind_speeds = [9.])\n",
    "fi_vis.calculate_wake()\n",
    "\n",
    "# The yaw angles matrix must also be of only one wind speed and wind direction\n",
    "# But still should have 3 dimensions\n",
    "# Take just this slice and flatten\n",
    "yaw_angles_zero_viz = np.zeros([1,1,num_turbine])\n",
    "yaw_angles_yaw_front_viz = np.zeros([1, 1, num_turbine])\n",
    "yaw_angles_yaw_front_viz[:,:,:2] = 25\n",
    "\n"
   ]
  },
  {
   "cell_type": "code",
   "execution_count": 76,
   "id": "38ea41cd",
   "metadata": {},
   "outputs": [
    {
     "data": {
      "text/plain": [
       "<matplotlib.collections.QuadMesh at 0x7ffc0a498400>"
      ]
     },
     "execution_count": 76,
     "metadata": {},
     "output_type": "execute_result"
    },
    {
     "data": {
      "image/png": "[encoded data removed]",
      "text/plain": [
       "<Figure size 1080x360 with 2 Axes>"
      ]
     },
     "metadata": {
      "needs_background": "light"
     },
     "output_type": "display_data"
    }
   ],
   "source": [
    "fig, axarr = plt.subplots(1,2,figsize=(15,5))\n",
    "\n",
    "# Plot the aligned case\n",
    "horizontal_plane = fi_vis.get_hor_plane(yaw_angles=yaw_angles_zero_viz)\n",
    "visualize_cut_plane(horizontal_plane, ax=axarr[0], title=\"Aligned\")\n",
    "\n",
    "# Plot the yawed case\n",
    "horizontal_plane = fi_vis.get_hor_plane(yaw_angles=yaw_angles_yaw_front_viz)\n",
    "visualize_cut_plane(horizontal_plane, ax=axarr[1], title=\"Yawed\")"
   ]
  }
 ],
 "metadata": {
  "kernelspec": {
   "display_name": "env_testv3",
   "language": "python",
   "name": "env_testv3"
  },
  "language_info": {
   "codemirror_mode": {
    "name": "ipython",
    "version": 3
   },
   "file_extension": ".py",
   "mimetype": "text/x-python",
   "name": "python",
   "nbconvert_exporter": "python",
   "pygments_lexer": "ipython3",
   "version": "3.9.5"
  }
 },
 "nbformat": 4,
 "nbformat_minor": 5
}
