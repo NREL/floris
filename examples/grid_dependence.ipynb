{
 "cells": [
  {
   "cell_type": "code",
   "execution_count": 1,
   "metadata": {},
   "outputs": [],
   "source": [
    "import copy\n",
    "\n",
    "import matplotlib.pyplot as plt\n",
    "import numpy as np\n",
    "import yaml\n",
    "\n",
    "from floris.tools import FlorisInterface\n",
    "import floris.tools.visualization as wakeviz"
   ]
  },
  {
   "cell_type": "code",
   "execution_count": 2,
   "metadata": {},
   "outputs": [
    {
     "name": "stdout",
     "output_type": "stream",
     "text": [
      "[8.60623309 6.64815365 6.19762848]\n",
      "[8.3296487  6.43359063 5.96399758]\n"
     ]
    },
    {
     "data": {
      "image/png": "[encoded data removed]",
      "text/plain": [
       "<Figure size 432x288 with 1 Axes>"
      ]
     },
     "metadata": {
      "needs_background": "light"
     },
     "output_type": "display_data"
    },
    {
     "data": {
      "image/png": "[encoded data removed]",
      "text/plain": [
       "<Figure size 432x288 with 4 Axes>"
      ]
     },
     "metadata": {
      "needs_background": "light"
     },
     "output_type": "display_data"
    },
    {
     "data": {
      "image/png": "[encoded data removed]",
      "text/plain": [
       "<Figure size 432x288 with 4 Axes>"
      ]
     },
     "metadata": {
      "needs_background": "light"
     },
     "output_type": "display_data"
    }
   ],
   "source": [
    "# Instantiate FLORIS with the Jensen model\n",
    "input_dict = yaml.safe_load( open('inputs/jensen.yaml', 'r') )\n",
    "\n",
    "# Use a linear wind shear for easier comparison of the numerical integration\n",
    "input_dict[\"flow_field\"][\"wind_shear\"] = 1.0\n",
    "\n",
    "\n",
    "# Set up the wind farm\n",
    "fi = FlorisInterface(input_dict)\n",
    "D = 126.0\n",
    "SPACING = 5.0\n",
    "layout_x = [\n",
    "    0,\n",
    "    D * 1 * SPACING,\n",
    "    D * 2 * SPACING,\n",
    "]\n",
    "layout_y = [\n",
    "    0,\n",
    "    0,\n",
    "    0,\n",
    "]\n",
    "\n",
    "fi.reinitialize(\n",
    "    layout_x=layout_x,\n",
    "    layout_y=layout_y,\n",
    "    wind_speeds=[8.0],\n",
    ")\n",
    "fi.calculate_wake()\n",
    "\n",
    "# Plot the layout\n",
    "wakeviz.plot_turbines_with_fi(fi)\n",
    "\n",
    "# Compare the wake profile with min and max number of points on rotor plane\n",
    "solver_dict = copy.deepcopy(input_dict[\"solver\"])\n",
    "solver_dict[\"turbine_grid_points\"] = 3\n",
    "fi.reinitialize(solver_settings=solver_dict)\n",
    "fi.calculate_wake()\n",
    "wakeviz.plot_rotor_values(\n",
    "    fi.floris.flow_field.u,\n",
    "    wd_index=range(0,1),\n",
    "    ws_index=range(0,1),\n",
    "    n_rows=1,\n",
    "    n_cols=3\n",
    ")\n",
    "print(fi.turbine_average_velocities[0, 0])\n",
    "\n",
    "solver_dict[\"turbine_grid_points\"] = 40\n",
    "fi.reinitialize(solver_settings=solver_dict)\n",
    "fi.calculate_wake()\n",
    "wakeviz.plot_rotor_values(\n",
    "    fi.floris.flow_field.u,\n",
    "    wd_index=range(0,1),\n",
    "    ws_index=range(0,1),\n",
    "    n_rows=1,\n",
    "    n_cols=3\n",
    ")\n",
    "print(fi.turbine_average_velocities[0, 0])"
   ]
  },
  {
   "cell_type": "code",
   "execution_count": 3,
   "metadata": {},
   "outputs": [
    {
     "name": "stdout",
     "output_type": "stream",
     "text": [
      "N grid points   Turbine 1 Power (MW)    Farm Power (MW)\n",
      "            2                  2.338            4.295\n",
      "            3                  2.129            3.895\n",
      "            4                  2.056            3.756\n",
      "            5                  2.022            3.688\n",
      "            6                  2.002            3.648\n",
      "            7                  1.989            3.621\n",
      "            8                  1.979            3.602\n",
      "            9                  1.972            3.587\n",
      "           10                  1.966            3.576\n",
      "           11                  1.962            3.567\n",
      "           12                  1.958            3.560\n",
      "           13                  1.955            3.554\n",
      "           14                  1.952            3.549\n",
      "           15                  1.950            3.545\n",
      "           16                  1.948            3.541\n",
      "           17                  1.946            3.538\n",
      "           18                  1.945            3.535\n",
      "           19                  1.944            3.533\n",
      "           20                  1.942            3.530\n",
      "           21                  1.941            3.528\n",
      "           22                  1.940            3.527\n",
      "           23                  1.940            3.525\n",
      "           24                  1.939            3.523\n",
      "           25                  1.938            3.522\n",
      "           26                  1.937            3.521\n",
      "           27                  1.937            3.519\n",
      "           28                  1.936            3.518\n",
      "           29                  1.936            3.517\n",
      "           30                  1.935            3.516\n",
      "           31                  1.935            3.515\n",
      "           32                  1.934            3.515\n",
      "           33                  1.934            3.514\n",
      "           34                  1.933            3.513\n",
      "           35                  1.933            3.512\n",
      "           36                  1.933            3.512\n",
      "           37                  1.932            3.511\n",
      "           38                  1.932            3.511\n",
      "           39                  1.932            3.510\n",
      "Max:     4.295\n",
      "Min:     3.510\n",
      "Diff:  18.3%\n"
     ]
    },
    {
     "data": {
      "image/png": "[encoded data removed]",
      "text/plain": [
       "<Figure size 864x576 with 2 Axes>"
      ]
     },
     "metadata": {
      "needs_background": "light"
     },
     "output_type": "display_data"
    }
   ],
   "source": [
    "# Show grid dependence for a single unwaked turbine only impacted by the shear profile\n",
    "rotor_grid_settings = copy.deepcopy(input_dict)\n",
    "fi = FlorisInterface(rotor_grid_settings)\n",
    "\n",
    "grid_points_array = range(2, 40)\n",
    "turbine_power_array = np.zeros((len(grid_points_array), fi.floris.farm.n_turbines))\n",
    "farm_power_array = np.zeros(len(grid_points_array))\n",
    "print(f\"{'N grid points':13s}   {'Turbine 1 Power (MW)':21s}   {'Farm Power (MW)':15s}\")\n",
    "\n",
    "for i, n_rotor_points in enumerate(grid_points_array):\n",
    "\n",
    "    # Update number of rotor points\n",
    "    solver_dict[\"turbine_grid_points\"] = n_rotor_points\n",
    "    fi.reinitialize(solver_settings=solver_dict)\n",
    "    fi.calculate_wake()\n",
    "\n",
    "    # Calculate turbine and farm power\n",
    "    turbine_power_array[i] = fi.get_turbine_powers()[0, 0] / 1e6\n",
    "    farm_power_array[i] = fi.get_farm_power()[0, 0] / 1e6\n",
    "    print(f\"{n_rotor_points:13d}   {turbine_power_array[i,0]:20.3f}   {farm_power_array[i]:14.3f}\")\n",
    "\n",
    "fig, axes = plt.subplots(1, 2, figsize=(12,8))\n",
    "axes[0].plot(grid_points_array, turbine_power_array[:,0], '-o')\n",
    "axes[0].plot([0, grid_points_array[-1]], 2 * [turbine_power_array[-1,0]], '--')\n",
    "axes[0].plot([0, grid_points_array[1]], 2 * [turbine_power_array[1,0]], '--')  # This is the typical 3x3 grid\n",
    "axes[0].grid(True)\n",
    "axes[0].set_xlabel('Number of rotor points (-)')\n",
    "axes[0].set_ylabel('Power (MW)')\n",
    "\n",
    "axes[1].plot(grid_points_array, farm_power_array, '-+')\n",
    "axes[1].grid(True)\n",
    "axes[1].set_xlabel('Number of rotor points (-)')\n",
    "axes[1].set_ylabel('Power (MW)')\n",
    "\n",
    "max_power = max(farm_power_array)\n",
    "min_power = min(farm_power_array)\n",
    "print(f\"Max: {max_power:9.3f}\")\n",
    "print(f\"Min: {min_power:9.3f}\")\n",
    "print(f\"Diff: {100*abs(max_power - min_power) / max_power : 3.1f}%\")"
   ]
  },
  {
   "cell_type": "code",
   "execution_count": 7,
   "metadata": {},
   "outputs": [
    {
     "name": "stdout",
     "output_type": "stream",
     "text": [
      "[[[[[   0.]\n",
      "    [   0.]\n",
      "    [   0.]\n",
      "    [   0.]\n",
      "    [   0.]\n",
      "    [   0.]\n",
      "    [   0.]\n",
      "    [   0.]\n",
      "    [   0.]]\n",
      "\n",
      "   [[ 630.]\n",
      "    [ 630.]\n",
      "    [ 630.]\n",
      "    [ 630.]\n",
      "    [ 630.]\n",
      "    [ 630.]\n",
      "    [ 630.]\n",
      "    [ 630.]\n",
      "    [ 630.]]\n",
      "\n",
      "   [[1260.]\n",
      "    [1260.]\n",
      "    [1260.]\n",
      "    [1260.]\n",
      "    [1260.]\n",
      "    [1260.]\n",
      "    [1260.]\n",
      "    [1260.]\n",
      "    [1260.]]]]]\n",
      "[[[[[-25.7196423]\n",
      "    [-51.4392846]\n",
      "    [-25.7196423]\n",
      "    [  0.       ]\n",
      "    [  0.       ]\n",
      "    [  0.       ]\n",
      "    [ 25.7196423]\n",
      "    [ 51.4392846]\n",
      "    [ 25.7196423]]\n",
      "\n",
      "   [[-25.7196423]\n",
      "    [-51.4392846]\n",
      "    [-25.7196423]\n",
      "    [  0.       ]\n",
      "    [  0.       ]\n",
      "    [  0.       ]\n",
      "    [ 25.7196423]\n",
      "    [ 51.4392846]\n",
      "    [ 25.7196423]]\n",
      "\n",
      "   [[-25.7196423]\n",
      "    [-51.4392846]\n",
      "    [-25.7196423]\n",
      "    [  0.       ]\n",
      "    [  0.       ]\n",
      "    [  0.       ]\n",
      "    [ 25.7196423]\n",
      "    [ 51.4392846]\n",
      "    [ 25.7196423]]]]]\n",
      "[[[[[134.54772721]\n",
      "    [ 90.        ]\n",
      "    [ 45.45227279]\n",
      "    [ 90.        ]\n",
      "    [ 90.        ]\n",
      "    [ 90.        ]\n",
      "    [ 45.45227279]\n",
      "    [ 90.        ]\n",
      "    [134.54772721]]\n",
      "\n",
      "   [[134.54772721]\n",
      "    [ 90.        ]\n",
      "    [ 45.45227279]\n",
      "    [ 90.        ]\n",
      "    [ 90.        ]\n",
      "    [ 90.        ]\n",
      "    [ 45.45227279]\n",
      "    [ 90.        ]\n",
      "    [134.54772721]]\n",
      "\n",
      "   [[134.54772721]\n",
      "    [ 90.        ]\n",
      "    [ 45.45227279]\n",
      "    [ 90.        ]\n",
      "    [ 90.        ]\n",
      "    [ 90.        ]\n",
      "    [ 45.45227279]\n",
      "    [ 90.        ]\n",
      "    [134.54772721]]]]]\n"
     ]
    }
   ],
   "source": [
    "# Compare the wake profile with min and max number of points on rotor plane\n",
    "cubature_grid_settings = copy.deepcopy(input_dict)\n",
    "cubature_grid_settings[\"solver\"][\"type\"] = \"cubature_grid\"\n",
    "fi = FlorisInterface(cubature_grid_settings)\n",
    "\n",
    "# fi.calculate_wake()\n",
    "print(np.shape(fi.floris.grid.x))\n",
    "print(np.shape(fi.floris.grid.y))\n",
    "print(np.shape(fi.floris.grid.z))\n",
    "\n",
    "# cubature_turbine_power = fi.get_turbine_powers()[0, 0] / 1e6\n",
    "# cubature_farm_power = fi.get_farm_power()[0, 0] / 1e6\n",
    "\n",
    "# print(f\"{'rotor grid':13s}   {turbine_power_array[-1,0]:20.3f}   {farm_power_array[-1]:14.3f}\")\n",
    "# print(f\"{'cubature grid':13s}   {cubature_turbine_power[0]:20.3f}   {cubature_farm_power:14.3f}\")\n",
    "# print(f\"Diff: {100*abs(cubature_farm_power - min_power) / min_power : 3.1f}%\")"
   ]
  },
  {
   "cell_type": "code",
   "execution_count": null,
   "metadata": {},
   "outputs": [],
   "source": []
  }
 ],
 "metadata": {
  "kernelspec": {
   "display_name": "Python 3.10.2 ('floris')",
   "language": "python",
   "name": "python3"
  },
  "language_info": {
   "codemirror_mode": {
    "name": "ipython",
    "version": 3
   },
   "file_extension": ".py",
   "mimetype": "text/x-python",
   "name": "python",
   "nbconvert_exporter": "python",
   "pygments_lexer": "ipython3",
   "version": "3.10.4"
  },
  "orig_nbformat": 4,
  "vscode": {
   "interpreter": {
    "hash": "abb86f6b47589d310a8582323f08589acc6fd65b639f664d8b854acb0023e70a"
   }
  }
 },
 "nbformat": 4,
 "nbformat_minor": 2
}
