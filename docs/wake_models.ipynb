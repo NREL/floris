{
 "cells": [
  {
   "attachments": {},
   "cell_type": "markdown",
   "metadata": {},
   "source": [
    "# Wake Models\n",
    "\n",
    "A wake model in FLORIS is made up of four components that together constitute a wake.\n",
    "At minimum, the velocity deficit profile behind a wind turbine is required. For most models,\n",
    "an additional wake deflection model is included to model the effect of yaw misalignment.\n",
    "Turbulence models are also available to couple with the deficit and deflection components.\n",
    "Finally, methods for combining wakes with the rest of the flow field are available.\n",
    "\n",
    "Computationally, the solver algorithm and grid-type supported by each wake model can also\n",
    "be considered as part of the model itself. As shown in the diagram below, the mathematical\n",
    "formulations can be considered as the main components of the model. These are typically\n",
    "associated directly to each other and in some cases they are bundled together into\n",
    "a single mathematical formulation. The solver algorithm and grid type are associated\n",
    "to the math formulation, but they are typically more generic.\n",
    "\n",
    "```{mermaid}\n",
    "flowchart LR\n",
    "    A[\"Deficit\"]\n",
    "    B[\"Deflection\"]\n",
    "    C[\"Turbulence\"]\n",
    "    D[\"Velocity\"]\n",
    "    E[\"Solver\"]\n",
    "    F[\"Grid\"]\n",
    "\n",
    "    subgraph H[FLORIS Wake Model]\n",
    "        direction LR\n",
    "        subgraph G[Math Model]\n",
    "            direction LR\n",
    "            A---B\n",
    "            B---C\n",
    "            C---D\n",
    "        end\n",
    "        G---E\n",
    "        E---F\n",
    "    end\n",
    "```"
   ]
  },
  {
   "cell_type": "code",
   "execution_count": 4,
   "metadata": {},
   "outputs": [],
   "source": [
    "import numpy as np\n",
    "import matplotlib.pyplot as plt\n",
    "from floris.tools import FlorisInterface\n",
    "import floris.tools.visualization as wakeviz"
   ]
  },
  {
   "attachments": {},
   "cell_type": "markdown",
   "metadata": {},
   "source": [
    "## Velocity deficit\n",
    "\n",
    "The velocity deficit models describe the velocity profile behind a wind turbine as a function of\n",
    "distance from the turbine plus additional model-specific parameters.\n",
    "\n",
    "### Jensen\n",
    "The Jensen model computes the wake velocity deficit based on the classic Jensen/Park model\n",
    "{cite:t}`jensen1983note`."
   ]
  },
  {
   "cell_type": "code",
   "execution_count": 17,
   "metadata": {
    "tags": [
     "hide-input"
    ]
   },
   "outputs": [
    {
     "data": {
      "image/png": "[encoded data removed]",
      "text/plain": [
       "<Figure size 720x720 with 2 Axes>"
      ]
     },
     "metadata": {
      "needs_background": "light"
     },
     "output_type": "display_data"
    }
   ],
   "source": [
    "fig, axarr = plt.subplots(2, 1, figsize=(10, 10))\n",
    "axarr = axarr.flatten()\n",
    "fi = FlorisInterface(\"../examples/inputs/jensen.yaml\")\n",
    "fi.reinitialize(layout_x=np.array([0.0]), layout_y=np.array([0.0]))\n",
    "horizontal_plane = fi.calculate_horizontal_plane(\n",
    "    height=90.0,\n",
    "    x_resolution=10,\n",
    ")\n",
    "wakeviz.visualize_cut_plane(horizontal_plane, ax=axarr[0])\n",
    "wakeviz.plot_turbines_with_fi(fi, ax=axarr[0])\n",
    "\n",
    "horizontal_plane = fi.calculate_horizontal_plane(\n",
    "    height=90.0,\n",
    "    x_resolution=200,\n",
    ")\n",
    "wakeviz.visualize_cut_plane(horizontal_plane, ax=axarr[1])\n",
    "wakeviz.plot_turbines_with_fi(fi, ax=axarr[1])"
   ]
  },
  {
   "attachments": {},
   "cell_type": "markdown",
   "metadata": {},
   "source": [
    "### Gauss and GCH\n",
    "The Gaussian velocity model is implemented based on {cite:t}`bastankhah2016experimental` and\n",
    "{cite:t}`niayifar2016analytical`\n",
    "\n",
    "### Cumulative Curl\n",
    "The cumulative curl model is an implementation of the model described in {cite:t}`bay_2022`,\n",
    "which itself is based on the cumulative model of {cite:t}`bastankhah_2021`\n",
    "\n",
    "### TurbOPark\n",
    "Model based on the TurbOPark model. For model details see https://github.com/OrstedRD/TurbOPark,\n",
    "https://github.com/OrstedRD/TurbOPark/blob/main/TurbOPark%20description.pdf, and Nygaard, Nicolai\n",
    "Gayle, et al. \"Modelling cluster wakes and wind farm blockage.\" 2020."
   ]
  },
  {
   "attachments": {},
   "cell_type": "markdown",
   "metadata": {},
   "source": [
    "## Wake deflection\n",
    "\n",
    "\n",
    "### Jimenez\n",
    "Jiménez wake deflection model, derived from {cite:t}`jimenez2010application`.\n",
    "\n",
    "### Gauss and GCH\n",
    "The Gauss deflection model is a blend of the models described in\n",
    "{cite:t}`bastankhah2016experimental` and {cite:t}`King2019Controls` for calculating\n",
    "the deflection field in turbine wakes.\n",
    "\n",
    "\n",
    "## Turbulence\n",
    "\n",
    "### Crespo-Hernandez\n",
    "\n",
    "CrespoHernandez is a wake-turbulence model that is used to compute additional variability introduced\n",
    "to the flow field by operation of a wind turbine. Implementation of the model follows the original\n",
    "formulation and limitations outlined in {cite:t}`crespo1996turbulence`.\n",
    "\n",
    "\n",
    "## Wake combination\n",
    "\n",
    "### FLS\n",
    "\n",
    "FLS uses freestream linear superposition to apply the wake velocity deficits to the freestream\n",
    "flow field.\n",
    "\n",
    "### MAX\n",
    "\n",
    "MAX uses the maximum wake velocity deficit to add to the base flow field. For more information,\n",
    "refer to {cite:t}`gunn2016limitations`.\n",
    "\n",
    "### SOSFS\n",
    "\n",
    "SOSFS uses sum of squares freestream superposition to combine the wake velocity deficits to the base\n",
    "flow field."
   ]
  },
  {
   "cell_type": "code",
   "execution_count": null,
   "metadata": {},
   "outputs": [],
   "source": []
  },
  {
   "attachments": {},
   "cell_type": "markdown",
   "metadata": {},
   "source": [
    "### Shorthand Model Naming\n",
    "\n",
    "#### Jensen\n",
    "\n",
    "The Jensen model uses the Jensen velocity model, Jimenez deflection model, CrespoHernandez\n",
    "turbulence model, and SOSFS combination model.\n",
    "\n",
    "#### GCH\n",
    "\n",
    "The Gauss-Curl-Hybrid model combines Gaussian wake models to capture second-order effects of wake\n",
    "steering using curl-based methods, as described in {cite:t}`King2019Controls`\n",
    "\n",
    "#### CC\n",
    "\n",
    "The CC model uses the Cumulative Curl velocity model, CrespoHernandez turbulence model, the Gaussian\n",
    "deflection model, and the SOSFS combination model.\n",
    "\n",
    "## Model Setup\n",
    "\n",
    "Here, we'll define a method to consistently calculate the varying cut planes for plotting later on.\n",
    "We'll also set up each of the three models that we'll compare to highlight the differences in how\n",
    "they operate."
   ]
  },
  {
   "cell_type": "code",
   "execution_count": 6,
   "metadata": {},
   "outputs": [],
   "source": [
    "def get_plot_parameters(fi):\n",
    "    \"\"\"Calculates the horizontal, streamwise, and rotor planes for a given FlorisInterface (fi)\n",
    "    object.\n",
    "    \"\"\"\n",
    "\n",
    "    horizontal_plane = fi.calculate_horizontal_plane(\n",
    "        x_resolution=200,\n",
    "        y_resolution=100,\n",
    "        height=90.0,\n",
    "        yaw_angles=np.array([[[25.,0.,0., 25.,0.,0., 25.,0.,0.]]]),\n",
    "    )\n",
    "    y_plane = fi.calculate_y_plane(\n",
    "        x_resolution=200,\n",
    "        z_resolution=100,\n",
    "        crossstream_dist=630.0,\n",
    "        # yaw_angles=np.array([[[25.,0.,0.],[25.,0.,0.],[25.,0.,0.]]]),\n",
    "    )\n",
    "    cross_plane = fi.calculate_cross_plane(\n",
    "        y_resolution=100,\n",
    "        z_resolution=100,\n",
    "        downstream_dist=630.0,\n",
    "        # yaw_angles=np.array([[[50.,0.,0.],[50.,0.,0.],[50.,0.,0.]]]),\n",
    "    )\n",
    "    return horizontal_plane, y_plane, cross_plane\n",
    "\n",
    "# Use a more granular grid than the default\n",
    "# Note: only a 3x3 rotor grid can be initialized\n",
    "solver_settings = {\n",
    "    \"type\": \"turbine_grid\",\n",
    "    \"turbine_grid_points\": 10\n",
    "}\n",
    "\n",
    "# Update the layout to be a staggered 3x3 turbine grid\n",
    "layout_x = np.arange(3) * np.ones((3, 3)) * 700\n",
    "layout_x[1] += 250\n",
    "layout_x[2] += 500\n",
    "layout_x = layout_x.flatten()\n",
    "\n",
    "layout_y = (np.arange(0, 601, 300).reshape(-1, 1) * np.ones((3, 3))).flatten()\n",
    "\n",
    "# Define each of the CC, GCH, and Jensen models\n",
    "fi_cc = FlorisInterface(\"../examples/inputs/cc.yaml\")\n",
    "fi_gch = FlorisInterface(\"../examples/inputs/gch.yaml\")\n",
    "fi_jensen = FlorisInterface(\"../examples/inputs/jensen.yaml\")\n",
    "\n",
    "# Reinitialize with the more granular grid and new layouts\n",
    "fi_cc.reinitialize(\n",
    "    solver_settings=solver_settings, layout_x=layout_x, layout_y=layout_y\n",
    ")\n",
    "fi_gch.reinitialize(\n",
    "    solver_settings=solver_settings, layout_x=layout_x, layout_y=layout_y\n",
    ")\n",
    "fi_jensen.reinitialize(\n",
    "    solver_settings=solver_settings, layout_x=layout_x, layout_y=layout_y\n",
    ")\n",
    "\n",
    "# Run the models\n",
    "fi_cc.calculate_wake()\n",
    "fi_gch.calculate_wake()\n",
    "fi_jensen.calculate_wake()\n",
    "\n",
    "# Get the cut planes\n",
    "horizontal_cc, y_cc, cross_cc = get_plot_parameters(fi_cc)\n",
    "horizontal_gch, y_gch, cross_gch = get_plot_parameters(fi_gch)\n",
    "horizontal_jensen, y_jensen, cross_jensen = get_plot_parameters(fi_jensen)"
   ]
  },
  {
   "attachments": {},
   "cell_type": "markdown",
   "metadata": {},
   "source": [
    "## Impacts on Performance\n",
    "### Plot the Results\n",
    "\n",
    "In the below plot we demonstrate the horizontal wake profile."
   ]
  },
  {
   "cell_type": "code",
   "execution_count": 7,
   "metadata": {},
   "outputs": [
    {
     "ename": "NameError",
     "evalue": "name 'visualize_cut_plane' is not defined",
     "output_type": "error",
     "traceback": [
      "\u001b[0;31m---------------------------------------------------------------------------\u001b[0m",
      "\u001b[0;31mNameError\u001b[0m                                 Traceback (most recent call last)",
      "\u001b[1;32m/Users/rmudafor/Development/floris/docs/wake_models.ipynb Cell 11\u001b[0m in \u001b[0;36m<module>\u001b[0;34m\u001b[0m\n\u001b[1;32m      <a href='vscode-notebook-cell:/Users/rmudafor/Development/floris/docs/wake_models.ipynb#W5sZmlsZQ%3D%3D?line=0'>1</a>\u001b[0m fig \u001b[39m=\u001b[39m plt\u001b[39m.\u001b[39mfigure(figsize\u001b[39m=\u001b[39m(\u001b[39m10\u001b[39m, \u001b[39m8\u001b[39m), dpi\u001b[39m=\u001b[39m\u001b[39m200\u001b[39m)\n\u001b[1;32m      <a href='vscode-notebook-cell:/Users/rmudafor/Development/floris/docs/wake_models.ipynb#W5sZmlsZQ%3D%3D?line=1'>2</a>\u001b[0m ax_list \u001b[39m=\u001b[39m fig\u001b[39m.\u001b[39msubplots(\u001b[39m3\u001b[39m, \u001b[39m1\u001b[39m, sharex\u001b[39m=\u001b[39m\u001b[39mTrue\u001b[39;00m, sharey\u001b[39m=\u001b[39m\u001b[39mTrue\u001b[39;00m)\u001b[39m.\u001b[39mflatten()\n\u001b[0;32m----> <a href='vscode-notebook-cell:/Users/rmudafor/Development/floris/docs/wake_models.ipynb#W5sZmlsZQ%3D%3D?line=3'>4</a>\u001b[0m visualize_cut_plane(horizontal_cc, ax\u001b[39m=\u001b[39max_list[\u001b[39m0\u001b[39m])\n\u001b[1;32m      <a href='vscode-notebook-cell:/Users/rmudafor/Development/floris/docs/wake_models.ipynb#W5sZmlsZQ%3D%3D?line=4'>5</a>\u001b[0m visualize_cut_plane(horizontal_gch, ax\u001b[39m=\u001b[39max_list[\u001b[39m1\u001b[39m])\n\u001b[1;32m      <a href='vscode-notebook-cell:/Users/rmudafor/Development/floris/docs/wake_models.ipynb#W5sZmlsZQ%3D%3D?line=5'>6</a>\u001b[0m visualize_cut_plane(horizontal_jensen, ax\u001b[39m=\u001b[39max_list[\u001b[39m2\u001b[39m])\n",
      "\u001b[0;31mNameError\u001b[0m: name 'visualize_cut_plane' is not defined"
     ]
    },
    {
     "data": {
      "image/png": "[encoded data removed]",
      "text/plain": [
       "<Figure size 2000x1600 with 3 Axes>"
      ]
     },
     "metadata": {
      "needs_background": "light"
     },
     "output_type": "display_data"
    }
   ],
   "source": [
    "fig = plt.figure(figsize=(10, 8), dpi=200)\n",
    "ax_list = fig.subplots(3, 1, sharex=True, sharey=True).flatten()\n",
    "\n",
    "visualize_cut_plane(horizontal_cc, ax=ax_list[0])\n",
    "visualize_cut_plane(horizontal_gch, ax=ax_list[1])\n",
    "visualize_cut_plane(horizontal_jensen, ax=ax_list[2])\n",
    "\n",
    "ax_list[0].set_title(\"CC\", fontsize=12)\n",
    "ax_list[1].set_title(\"GCH\", fontsize=12)\n",
    "ax_list[2].set_title(\"Jensen\", fontsize=12)\n",
    "\n",
    "fig.suptitle(\"Horizontal Wake Profile\", fontsize=16)\n",
    "fig.tight_layout()"
   ]
  },
  {
   "attachments": {},
   "cell_type": "markdown",
   "metadata": {},
   "source": [
    "In the below plots we show the turbine grids for each turbine."
   ]
  },
  {
   "cell_type": "code",
   "execution_count": null,
   "metadata": {},
   "outputs": [],
   "source": [
    "fig, axes, _ , _ = plot_rotor_values(\n",
    "    fi_cc.floris.flow_field.u,\n",
    "    wd_index=0,\n",
    "    ws_index=0,\n",
    "    n_rows=1,\n",
    "    n_cols=3,\n",
    "    return_fig_objects=True\n",
    ")\n",
    "fig.suptitle(\"CC Rotor Plane Visualization, 10x10 Resolution\")\n",
    "show_plots()\n",
    "\n",
    "fig, axes, _ , _ = plot_rotor_values(\n",
    "    fi_gch.floris.flow_field.u,\n",
    "    wd_index=0,\n",
    "    ws_index=0,\n",
    "    n_rows=1,\n",
    "    n_cols=3,\n",
    "    return_fig_objects=True\n",
    ")\n",
    "fig.suptitle(\"GCH Rotor Plane Visualization, 10x10 Resolution\")\n",
    "show_plots()\n",
    "\n",
    "fig, axes, _ , _ = plot_rotor_values(\n",
    "    fi_jensen.floris.flow_field.u,\n",
    "    wd_index=0,\n",
    "    ws_index=0,\n",
    "    n_rows=1,\n",
    "    n_cols=3,\n",
    "    return_fig_objects=True\n",
    ")\n",
    "fig.suptitle(\"Jensen Rotor Plane Visualization, 10x10 Resolution\")\n",
    "show_plots()"
   ]
  },
  {
   "attachments": {},
   "cell_type": "markdown",
   "metadata": {},
   "source": [
    "### AEP Comparison"
   ]
  },
  {
   "cell_type": "code",
   "execution_count": null,
   "metadata": {},
   "outputs": [],
   "source": [
    "# Gather the AEPs and display in a table\n",
    "frequency = np.array([[1.0]])\n",
    "results_df = pd.DataFrame(\n",
    "    [\n",
    "        [\"CC\", fi_cc.get_farm_AEP(frequency)],\n",
    "        [\"GCH\", fi_gch.get_farm_AEP(frequency)],\n",
    "        [\"Jensen\", fi_jensen.get_farm_AEP(frequency)],\n",
    "    ],\n",
    "    columns=[\"Model\", \"AEP (GWh)\"],\n",
    ").set_index(\"Model\") / 1e6\n",
    "\n",
    "# Compute the potential (same for all models)\n",
    "potential = fi_cc.get_farm_AEP(frequency, no_wake=True) / 1e6\n",
    "\n",
    "results_df.loc[:, \"Wake Losses (%)\"] = (np.full(3, potential) - results_df[\"AEP (GWh)\"]) / potential\n",
    "results_df.style \\\n",
    "    .format({\n",
    "        \"Wake Losses (%)\": \"{:.1%}\".format,\n",
    "        \"AEP (GWh)\": \"{:,.2f}\".format,\n",
    "    })"
   ]
  },
  {
   "attachments": {},
   "cell_type": "markdown",
   "metadata": {},
   "source": [
    "```{bibliography}\n",
    "```"
   ]
  },
  {
   "cell_type": "markdown",
   "metadata": {},
   "source": []
  }
 ],
 "metadata": {
  "kernelspec": {
   "display_name": "Python 3",
   "language": "python",
   "name": "python3"
  },
  "language_info": {
   "codemirror_mode": {
    "name": "ipython",
    "version": 3
   },
   "file_extension": ".py",
   "mimetype": "text/x-python",
   "name": "python",
   "nbconvert_exporter": "python",
   "pygments_lexer": "ipython3",
   "version": "3.10.4"
  },
  "orig_nbformat": 4
 },
 "nbformat": 4,
 "nbformat_minor": 2
}
