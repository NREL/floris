{
 "cells": [
  {
   "cell_type": "markdown",
   "id": "751adfee",
   "metadata": {},
   "source": [
    "# Example: Visualize flow by sweeping turbines"
   ]
  },
  {
   "cell_type": "code",
   "execution_count": null,
   "id": "72cbb8a2",
   "metadata": {},
   "outputs": [],
   "source": [
    "\"\"\"Example: Visualize flow by sweeping turbines\n",
    "\n",
    "Demonstrate the use calculate_horizontal_plane_with_turbines\n",
    "\n",
    "\"\"\"\n",
    "\n",
    "import matplotlib.pyplot as plt\n",
    "\n",
    "import floris.flow_visualization as flowviz\n",
    "from floris import FlorisModel\n",
    "\n",
    "\n",
    "fmodel = FlorisModel(\"../inputs/gch.yaml\")\n",
    "\n",
    "# # Some wake models may not yet have a visualization method included, for these cases can use\n",
    "# # a slower version which scans a turbine model to produce the horizontal flow\n",
    "\n",
    "\n",
    "# Set a 2 turbine layout\n",
    "fmodel.set(\n",
    "    layout_x=[0, 500],\n",
    "    layout_y=[0, 0],\n",
    "    wind_directions=[270],\n",
    "    wind_speeds=[8],\n",
    "    turbulence_intensities=[0.06],\n",
    ")\n",
    "\n",
    "horizontal_plane_scan_turbine = flowviz.calculate_horizontal_plane_with_turbines(\n",
    "    fmodel,\n",
    "    x_resolution=20,\n",
    "    y_resolution=10,\n",
    ")\n",
    "\n",
    "fig, ax = plt.subplots(figsize=(10, 4))\n",
    "flowviz.visualize_cut_plane(\n",
    "    horizontal_plane_scan_turbine,\n",
    "    ax=ax,\n",
    "    label_contours=True,\n",
    "    title=\"Horizontal (coarse turbine scan method)\",\n",
    ")\n",
    "\n",
    "\n",
    "plt.show()\n",
    "import warnings\n",
    "warnings.filterwarnings('ignore')"
   ]
  }
 ],
 "metadata": {},
 "nbformat": 4,
 "nbformat_minor": 5
}
