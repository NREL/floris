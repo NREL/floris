{
 "cells": [
  {
   "cell_type": "markdown",
   "id": "668a299e",
   "metadata": {},
   "source": [
    "# Example: Multiple turbine types"
   ]
  },
  {
   "cell_type": "code",
   "execution_count": null,
   "id": "573b106e",
   "metadata": {},
   "outputs": [],
   "source": [
    "\"\"\"Example: Multiple turbine types\n",
    "\n",
    "This example uses an input file where multiple turbine types are defined.\n",
    "The first two turbines are the NREL 5MW, and the third turbine is the IEA 10MW.\n",
    "\"\"\"\n",
    "\n",
    "\n",
    "import matplotlib.pyplot as plt\n",
    "\n",
    "import floris.flow_visualization as flowviz\n",
    "from floris import FlorisModel\n",
    "\n",
    "\n",
    "# Initialize FLORIS with the given input file.\n",
    "# For basic usage, FlorisModel provides a simplified and expressive\n",
    "# entry point to the simulation routines.\n",
    "fmodel = FlorisModel(\"../inputs/gch_multiple_turbine_types.yaml\")\n",
    "\n",
    "# Using the FlorisModel functions for generating plots, run FLORIS\n",
    "# and extract 2D planes of data.\n",
    "horizontal_plane = fmodel.calculate_horizontal_plane(x_resolution=200, y_resolution=100, height=90)\n",
    "y_plane = fmodel.calculate_y_plane(x_resolution=200, z_resolution=100, crossstream_dist=0.0)\n",
    "cross_plane = fmodel.calculate_cross_plane(\n",
    "    y_resolution=100, z_resolution=100, downstream_dist=500.0\n",
    ")\n",
    "\n",
    "# Create the plots\n",
    "fig, ax_list = plt.subplots(3, 1, figsize=(10, 8))\n",
    "ax_list = ax_list.flatten()\n",
    "flowviz.visualize_cut_plane(horizontal_plane, ax=ax_list[0], title=\"Horizontal\")\n",
    "flowviz.visualize_cut_plane(y_plane, ax=ax_list[1], title=\"Streamwise profile\")\n",
    "flowviz.visualize_cut_plane(cross_plane, ax=ax_list[2], title=\"Spanwise profile\")\n",
    "\n",
    "plt.show()\n",
    "import warnings\n",
    "warnings.filterwarnings('ignore')"
   ]
  }
 ],
 "metadata": {},
 "nbformat": 4,
 "nbformat_minor": 5
}
