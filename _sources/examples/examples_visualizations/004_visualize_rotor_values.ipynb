{
 "cells": [
  {
   "cell_type": "markdown",
   "id": "9419b106",
   "metadata": {},
   "source": [
    "# Example: Visualize rotor velocities"
   ]
  },
  {
   "cell_type": "code",
   "execution_count": null,
   "id": "fc410dd6",
   "metadata": {},
   "outputs": [],
   "source": [
    "\"\"\"Example: Visualize rotor velocities\n",
    "\n",
    "Demonstrate visualizing the flow velocities at the rotor using plot_rotor_values\n",
    "\n",
    "\"\"\"\n",
    "\n",
    "import matplotlib.pyplot as plt\n",
    "\n",
    "import floris.flow_visualization as flowviz\n",
    "from floris import FlorisModel\n",
    "\n",
    "\n",
    "fmodel = FlorisModel(\"../inputs/gch.yaml\")\n",
    "\n",
    "# Set a 2 turbine layout\n",
    "fmodel.set(\n",
    "    layout_x=[0, 500],\n",
    "    layout_y=[0, 0],\n",
    "    wind_directions=[270],\n",
    "    wind_speeds=[8],\n",
    "    turbulence_intensities=[0.06],\n",
    ")\n",
    "\n",
    "# Run the model\n",
    "fmodel.run()\n",
    "\n",
    "# Plot the values at each rotor\n",
    "fig, axes, _, _ = flowviz.plot_rotor_values(\n",
    "    fmodel.core.flow_field.u, findex=0, n_rows=1, n_cols=2, return_fig_objects=True\n",
    ")\n",
    "fig.suptitle(\"Rotor Plane Visualization, Original Resolution\")\n",
    "\n",
    "plt.show()\n",
    "import warnings\n",
    "warnings.filterwarnings('ignore')"
   ]
  }
 ],
 "metadata": {},
 "nbformat": 4,
 "nbformat_minor": 5
}
