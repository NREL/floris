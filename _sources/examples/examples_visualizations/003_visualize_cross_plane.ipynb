{
 "cells": [
  {
   "cell_type": "markdown",
   "id": "2ef30d1b",
   "metadata": {},
   "source": [
    "# Example: Visualize cross plane"
   ]
  },
  {
   "cell_type": "code",
   "execution_count": null,
   "id": "91c3d307",
   "metadata": {},
   "outputs": [],
   "source": [
    "\"\"\"Example: Visualize cross plane\n",
    "\n",
    "Demonstrate visualizing a plane cut vertically through the flow field across the wind direction.\n",
    "\n",
    "\"\"\"\n",
    "\n",
    "import matplotlib.pyplot as plt\n",
    "\n",
    "from floris import FlorisModel\n",
    "from floris.flow_visualization import visualize_cut_plane\n",
    "\n",
    "\n",
    "fmodel = FlorisModel(\"../inputs/gch.yaml\")\n",
    "\n",
    "# Set a 1 turbine layout\n",
    "fmodel.set(\n",
    "    layout_x=[0],\n",
    "    layout_y=[0],\n",
    "    wind_directions=[270],\n",
    "    wind_speeds=[8],\n",
    "    turbulence_intensities=[0.06],\n",
    ")\n",
    "\n",
    "# Collect the cross plane downstream of the turbine\n",
    "cross_plane = fmodel.calculate_cross_plane(\n",
    "    y_resolution=100,\n",
    "    z_resolution=100,\n",
    "    downstream_dist=500.0,\n",
    ")\n",
    "\n",
    "# Plot the flow field\n",
    "fig, ax = plt.subplots(figsize=(4, 6))\n",
    "visualize_cut_plane(\n",
    "    cross_plane, ax=ax, min_speed=3, max_speed=9, label_contours=True, title=\"Cross Plane\"\n",
    ")\n",
    "\n",
    "plt.show()\n",
    "import warnings\n",
    "warnings.filterwarnings('ignore')"
   ]
  }
 ],
 "metadata": {},
 "nbformat": 4,
 "nbformat_minor": 5
}
