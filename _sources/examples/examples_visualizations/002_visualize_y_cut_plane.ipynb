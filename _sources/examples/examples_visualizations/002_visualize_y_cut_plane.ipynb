{
 "cells": [
  {
   "cell_type": "markdown",
   "id": "4615b8be",
   "metadata": {},
   "source": [
    "# Example: Visualize y cut plane"
   ]
  },
  {
   "cell_type": "code",
   "execution_count": null,
   "id": "d74a59e9",
   "metadata": {},
   "outputs": [],
   "source": [
    "\"\"\"Example: Visualize y cut plane\n",
    "\n",
    "Demonstrate visualizing a plane cut vertically through the flow field along the wind direction.\n",
    "\n",
    "\"\"\"\n",
    "\n",
    "import matplotlib.pyplot as plt\n",
    "\n",
    "from floris import FlorisModel\n",
    "from floris.flow_visualization import visualize_cut_plane\n",
    "\n",
    "\n",
    "fmodel = FlorisModel(\"../inputs/gch.yaml\")\n",
    "\n",
    "# Set a 3 turbine layout with wind direction along the row\n",
    "fmodel.set(\n",
    "    layout_x=[0, 500, 1000],\n",
    "    layout_y=[0, 0, 0],\n",
    "    wind_directions=[270],\n",
    "    wind_speeds=[8],\n",
    "    turbulence_intensities=[0.06],\n",
    ")\n",
    "\n",
    "# Collect the yplane\n",
    "y_plane = fmodel.calculate_y_plane(x_resolution=200, z_resolution=100, crossstream_dist=0.0)\n",
    "\n",
    "# Plot the flow field\n",
    "fig, ax = plt.subplots(figsize=(10, 4))\n",
    "visualize_cut_plane(\n",
    "    y_plane, ax=ax, min_speed=3, max_speed=9, label_contours=True, title=\"Y Cut Plane\"\n",
    ")\n",
    "\n",
    "plt.show()\n",
    "import warnings\n",
    "warnings.filterwarnings('ignore')"
   ]
  }
 ],
 "metadata": {},
 "nbformat": 4,
 "nbformat_minor": 5
}
