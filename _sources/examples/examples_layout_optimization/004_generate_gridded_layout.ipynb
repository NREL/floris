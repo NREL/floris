{
 "cells": [
  {
   "cell_type": "markdown",
   "id": "d151572f",
   "metadata": {},
   "source": [
    "# Example: Gridded layout design"
   ]
  },
  {
   "cell_type": "code",
   "execution_count": null,
   "id": "0905923b",
   "metadata": {},
   "outputs": [],
   "source": [
    "\"\"\"Example: Gridded layout design\n",
    "This example shows a layout optimization that places as many turbines as\n",
    "possible into a given boundary using a gridded layout pattern.\n",
    "\"\"\"\n",
    "\n",
    "import matplotlib.pyplot as plt\n",
    "import numpy as np\n",
    "\n",
    "from floris import FlorisModel, WindRose\n",
    "from floris.optimization.layout_optimization.layout_optimization_gridded import (\n",
    "    LayoutOptimizationGridded,\n",
    ")\n",
    "\n",
    "\n",
    "if __name__ == '__main__':\n",
    "    # Load the Floris model\n",
    "    fmodel = FlorisModel('../inputs/gch.yaml')\n",
    "\n",
    "    # Set the boundaries\n",
    "    # The boundaries for the turbines, specified as vertices\n",
    "    boundaries = [(0.0, 0.0), (0.0, 1000.0), (1000.0, 1000.0), (1000.0, 0.0), (0.0, 0.0)]\n",
    "\n",
    "    # Set up the optimization object with 5D spacing\n",
    "    layout_opt = LayoutOptimizationGridded(\n",
    "        fmodel,\n",
    "        boundaries,\n",
    "        min_dist_D=5., # results in spacing of 5*125.88 = 629.4 m\n",
    "        min_dist=None, # Alternatively, can specify spacing directly in meters\n",
    "    )\n",
    "\n",
    "    layout_opt.optimize()\n",
    "\n",
    "    # Note that the \"initial\" layout that is provided with the fmodel is\n",
    "    # not used by the layout optimization.\n",
    "    layout_opt.plot_layout_opt_results()\n",
    "\n",
    "    plt.show()\n",
    "import warnings\n",
    "warnings.filterwarnings('ignore')"
   ]
  }
 ],
 "metadata": {},
 "nbformat": 4,
 "nbformat_minor": 5
}
