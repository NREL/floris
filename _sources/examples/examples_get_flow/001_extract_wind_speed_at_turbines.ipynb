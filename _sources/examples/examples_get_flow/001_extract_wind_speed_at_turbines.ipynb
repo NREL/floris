{
 "cells": [
  {
   "cell_type": "markdown",
   "id": "2e4d7ad0",
   "metadata": {},
   "source": [
    "# Example: Extract wind speed at turbines"
   ]
  },
  {
   "cell_type": "code",
   "execution_count": null,
   "id": "25c31475",
   "metadata": {},
   "outputs": [],
   "source": [
    "\"\"\"Example: Extract wind speed at turbines\n",
    "\n",
    "This example demonstrates how to extract the wind speed at the turbine points\n",
    "from the FLORIS model.  Both the u velocities and the turbine average\n",
    "velocities are grabbed from the model, then the turbine average is\n",
    "recalculated from the u velocities to show that they are equivalent.\n",
    "\"\"\"\n",
    "\n",
    "\n",
    "import numpy as np\n",
    "\n",
    "from floris import FlorisModel\n",
    "\n",
    "\n",
    "# Initialize the FLORIS model\n",
    "fmodel = FlorisModel(\"../inputs/gch.yaml\")\n",
    "\n",
    "# Create a 4-turbine layouts\n",
    "fmodel.set(layout_x=[0, 0.0, 500.0, 500.0], layout_y=[0.0, 300.0, 0.0, 300.0])\n",
    "\n",
    "# Calculate wake\n",
    "fmodel.run()\n",
    "\n",
    "# Collect the wind speed at all the turbine points\n",
    "u_points = fmodel.core.flow_field.u\n",
    "\n",
    "print(\"U points is 1 findex x 4 turbines x 3 x 3 points (turbine_grid_points=3)\")\n",
    "print(u_points.shape)\n",
    "\n",
    "print(\"turbine_average_velocities is 1 findex x 4 turbines\")\n",
    "print(fmodel.turbine_average_velocities)\n",
    "\n",
    "# Show that one is equivalent to the other following averaging\n",
    "print(\n",
    "    \"turbine_average_velocities is determined by taking the cube root of mean \"\n",
    "    \"of the cubed value across the points \"\n",
    ")\n",
    "print(f\"turbine_average_velocities: {fmodel.turbine_average_velocities}\")\n",
    "print(f\"Recomputed:       {np.cbrt(np.mean(u_points**3, axis=(2,3)))}\")\n",
    "import warnings\n",
    "warnings.filterwarnings('ignore')"
   ]
  }
 ],
 "metadata": {},
 "nbformat": 4,
 "nbformat_minor": 5
}
